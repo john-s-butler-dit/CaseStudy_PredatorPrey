{
  "nbformat": 4,
  "nbformat_minor": 0,
  "metadata": {
    "kernelspec": {
      "display_name": "Python 3",
      "language": "python",
      "name": "python3"
    },
    "language_info": {
      "codemirror_mode": {
        "name": "ipython",
        "version": 3
      },
      "file_extension": ".py",
      "mimetype": "text/x-python",
      "name": "python",
      "nbconvert_exporter": "python",
      "pygments_lexer": "ipython3",
      "version": "3.8.5"
    },
    "colab": {
      "name": "01_Unisensory_Campos_Butler_Bulthoff.ipynb",
      "provenance": [],
      "include_colab_link": true
    }
  },
  "cells": [
    {
      "cell_type": "markdown",
      "metadata": {
        "id": "view-in-github",
        "colab_type": "text"
      },
      "source": [
        "<a href=\"https://colab.research.google.com/github/john-s-butler-dit/CaseStudy_PredatorPrey/blob/master/01_Unisensory_Campos_Butler_Bulthoff.ipynb\" target=\"_parent\"><img src=\"https://colab.research.google.com/assets/colab-badge.svg\" alt=\"Open In Colab\"/></a>"
      ]
    },
    {
      "cell_type": "markdown",
      "metadata": {
        "id": "dAqy2cYmWkbL"
      },
      "source": [
        "## Contributions of visual and proprioceptive information to travelled distance estimation during changing sensory congruencies\n",
        "Jennifer L Campos, John S Butler, Heinrich H. Bülthoff\n",
        "Experimental Brain Research"
      ]
    },
    {
      "cell_type": "markdown",
      "metadata": {
        "id": "u4Hdj_2SWkbQ"
      },
      "source": [
        "__Abstract__ Recent research has provided evidence that visual and body-based cues (vestibular, proprioceptive\n",
        "and efference copy) are integrated using a weighted linear sum during walking and passive transport. However, little\n",
        "is known about the specific weighting of visual information when combined with proprioceptive inputs alone, in\n",
        "the absence of vestibular information about forward selfmotion. \n",
        "\n",
        "Therefore, in this study, participants walked in place on a stationary treadmill while dynamic visual information was updated in real time via a head-mounted display. The task required participants to travel a predefined distance and subsequently match this distance by adjusting an egocentric, in-depth target using a game controller. Travelled distance information was provided either through\n",
        "visual cues alone, proprioceptive cues alone or both cues combined. In the combined cue condition, the relationship\n",
        "between the two cues was manipulated by either changing the visual gain across trials (0.7×, 1.0×, 1.4×; Exp. 1) or\n",
        "the proprioceptive gain across trials (0.7×, 1.0×, 1.4×; Exp. 2). \n",
        "\n",
        "Results demonstrated an overall higher weighting of proprioception over vision. These weights were scaled, however, as a function of which sensory input provided more stable information across trials. Specifically, when visual gain was constantly manipulated, proprioceptive weights were higher than when proprioceptive gain was constantly manipulated. These results therefore reveal interesting characteristics of cue-weighting within the context of unfolding spatio-temporal cue dynamics.\n",
        "# Introduction\n",
        "In this notebook we will simulate the results of the Leaky Integrator for one condition from the paper by Campos et al. 2014 [1]."
      ]
    },
    {
      "cell_type": "code",
      "metadata": {
        "id": "Mc2B5yMfWkbR"
      },
      "source": [
        "## Library\n",
        "import numpy as np # vector operations\n",
        "import matplotlib.pyplot as plt # plotting data"
      ],
      "execution_count": 1,
      "outputs": []
    },
    {
      "cell_type": "markdown",
      "metadata": {
        "id": "TSfF4uCPWkbR"
      },
      "source": [
        "## Leaky Integrator\n",
        "The presented distance travelled for the visual, proprioceptive and congruent combined conditions was each fitted by a leaky spatial integrator mode.\n",
        "The model describes the change of presented distance travelled ($p$) with respect to the change of the adjusted target distance estimate ($x$)\n",
        "\\begin{equation}\n",
        "\\frac{d p}{dx}=-\\alpha p+k,\n",
        "\\end{equation}\n",
        "for $0\\leq x \\leq 10m$, where $k$ and $\\alpha$ are the sensory gain and the leak rate, respectively.\n",
        "This model has the exact solution\n",
        "\\begin{equation}\n",
        "p(x)=\\big( \\frac{k}{\\alpha}\\big)(1-exp(-\\alpha x))\n",
        "\\end{equation}\n",
        "In this simulation we set the leak rate as $\\alpha=0.05$ and sensory gain as $k=0.9$.\n"
      ]
    },
    {
      "cell_type": "code",
      "metadata": {
        "id": "wvjkyC6jWkbR"
      },
      "source": [
        "alpha=0.05\n",
        "k=0.9"
      ],
      "execution_count": 2,
      "outputs": []
    },
    {
      "cell_type": "markdown",
      "metadata": {
        "id": "n4Ry3-EEWkbS"
      },
      "source": [
        "## Discerete Domain\n",
        "To numerically approximate the solution we discretise the continuous domain using a step size, $h=1$, \n",
        "which gives\n",
        "\\begin{equation}\n",
        "x_i=0+i h,\n",
        "\\end{equation}\n",
        "for $i=0,...10$.\n",
        "\n",
        "The Figure below illustrate the discrete domain."
      ]
    },
    {
      "cell_type": "code",
      "metadata": {
        "id": "q5jWBAwBWkbS",
        "outputId": "d49dc496-94a2-42d5-a52e-9a505a00c513",
        "colab": {
          "base_uri": "https://localhost:8080/",
          "height": 279
        }
      },
      "source": [
        "h=1\n",
        "x_end=10\n",
        "# CREATES A LIST OF NUMBER BETWEEN 0 AND 10 (x_end)\n",
        "x=np.arange(0,x_end+h/2,h) \n",
        "\n",
        "## THIS MAKES PLOT\n",
        "fig = plt.figure(1,figsize=(5,4))\n",
        "ax = fig.add_subplot(1,1,1)\n",
        "ax.plot(x,0*x,'o:',color='k')\n",
        "ax.set_xlabel('Distance Presented (m)')\n",
        "plt.show()"
      ],
      "execution_count": 3,
      "outputs": [
        {
          "output_type": "display_data",
          "data": {
            "image/png": "[encoded data removed]",
            "text/plain": [
              "<Figure size 360x288 with 1 Axes>"
            ]
          },
          "metadata": {
            "tags": [],
            "needs_background": "light"
          }
        }
      ]
    },
    {
      "cell_type": "code",
      "metadata": {
        "id": "V3knBSivWkbT"
      },
      "source": [
        "N=int(x_end/h) # Number of Steps\n",
        "\n",
        "P=np.zeros(N+1) # Numerical Solution of the differential equation\n",
        "\n",
        "p=k/alpha*(1-np.exp(-alpha*x))\n",
        "# Initial Conditions\n",
        "P[0]=0"
      ],
      "execution_count": 4,
      "outputs": []
    },
    {
      "cell_type": "markdown",
      "metadata": {
        "id": "ZXOQaROAWkbT"
      },
      "source": [
        "We numerically approximate the differential equation using Eulers method to give the difference equation\n",
        "\\begin{equation}\n",
        "P_{i+1}=P_{i}+h \\big(-\\alpha P_{i}+k \\big),\n",
        "\\end{equation}\n",
        "where $h$ is the stepsize and where $P_i$ is the numerical approximation of $p(x)$ at distance $x_i$, for $i=0,...,10$\n"
      ]
    },
    {
      "cell_type": "code",
      "metadata": {
        "id": "K8XY-V1kWkbT"
      },
      "source": [
        "for i in range (0,N):\n",
        "    ## THIS IS THE DIFFERENCE EQUATION\n",
        "    P[i+1]=P[i]+h*(-alpha*P[i]+k)\n"
      ],
      "execution_count": 5,
      "outputs": []
    },
    {
      "cell_type": "markdown",
      "metadata": {
        "id": "q8BC6TlUWkbU"
      },
      "source": [
        "## Results\n",
        "The plot below shows the Numerical solution $P_i$ (left plot in red), the analytic solution $p(x)$ (middle plot in green) and the error $p(x_i)-P_i$ (right in red) as a function of presented distance $x$. The dashed black line in the left and middle plot represents perfect recall of the distance."
      ]
    },
    {
      "cell_type": "code",
      "metadata": {
        "id": "0pJxXyWAWkbU",
        "outputId": "c70bb9a9-cc55-4cfd-caf4-eb58b38ef414",
        "colab": {
          "base_uri": "https://localhost:8080/",
          "height": 302
        }
      },
      "source": [
        "## Plotting Figure\n",
        "fig = plt.figure(1,figsize=(12,4))\n",
        "\n",
        "# --- left hand plot\n",
        "ax = fig.add_subplot(1,3,1)\n",
        "ax.plot(x,P,'o:',color='blue')\n",
        "ax.plot(x,x,'--k')\n",
        "\n",
        "ax.set_xlabel('Distance Presented (m)')\n",
        "ax.set_ylabel('Response Distance (m)')\n",
        "#ax.legend(loc='best')\n",
        "ax.set_title('Numerical Solution')\n",
        "\n",
        "# --- middle plot\n",
        "ax = fig.add_subplot(1,3,2)\n",
        "ax.plot(x,p,'-',color='green')\n",
        "ax.plot(x,x,'--k')\n",
        "\n",
        "ax.set_xlabel('Distance Presented (m)')\n",
        "ax.set_ylabel('Response Distance (m)')\n",
        "ax.set_title('Analytic (exact) Solution')\n",
        "\n",
        "# --- right hand plot\n",
        "ax = fig.add_subplot(1,3,3)\n",
        "ax.plot(x,p-P,'o:',color='red')\n",
        "ax.set_title('Error')\n",
        "ax.set_ylabel('Error(m)')\n",
        "ax.set_xlabel('Distance Presented (m)')\n",
        "\n",
        "# --- title, explanatory text and save\n",
        "fig.suptitle('Leaky Solution', fontsize=20)\n",
        "plt.tight_layout()\n",
        "plt.subplots_adjust(top=0.85)\n"
      ],
      "execution_count": 6,
      "outputs": [
        {
          "output_type": "display_data",
          "data": {
            "image/png": "[encoded data removed]",
            "text/plain": [
              "<Figure size 864x288 with 3 Axes>"
            ]
          },
          "metadata": {
            "tags": [],
            "needs_background": "light"
          }
        }
      ]
    },
    {
      "cell_type": "markdown",
      "metadata": {
        "id": "XMFz9PLZWkbU"
      },
      "source": [
        "# References\n",
        "\n",
        "[1] Campos, J. L., Butler, J. S., & Bülthoff, H. H. (2014). Contributions of visual and proprioceptive information to travelled distance estimation during changing sensory congruencies. Experimental brain research, 232(10), 3277-3289."
      ]
    }
  ]
}