{
  "nbformat": 4,
  "nbformat_minor": 0,
  "metadata": {
    "kernelspec": {
      "display_name": "Python 3",
      "language": "python",
      "name": "python3"
    },
    "language_info": {
      "codemirror_mode": {
        "name": "ipython",
        "version": 3
      },
      "file_extension": ".py",
      "mimetype": "text/x-python",
      "name": "python",
      "nbconvert_exporter": "python",
      "pygments_lexer": "ipython3",
      "version": "3.8.5"
    },
    "colab": {
      "name": "03_Linear Population Growth.ipynb",
      "provenance": [],
      "include_colab_link": true
    }
  },
  "cells": [
    {
      "cell_type": "markdown",
      "metadata": {
        "id": "view-in-github",
        "colab_type": "text"
      },
      "source": [
        "<a href=\"https://colab.research.google.com/github/john-s-butler-dit/CaseStudy_PredatorPrey/blob/master/03_Linear%20Population%20Growth.ipynb\" target=\"_parent\"><img src=\"https://colab.research.google.com/assets/colab-badge.svg\" alt=\"Open In Colab\"/></a>"
      ]
    },
    {
      "cell_type": "markdown",
      "metadata": {
        "id": "33gv4KY7WlSP"
      },
      "source": [
        "## Linear Population Differential Equations"
      ]
    },
    {
      "cell_type": "markdown",
      "metadata": {
        "id": "WkvA_iJyWlSa"
      },
      "source": [
        "In this notebook we will solve a simple population equation [1]"
      ]
    },
    {
      "cell_type": "code",
      "metadata": {
        "id": "Xm5D2oeMWlSb"
      },
      "source": [
        "## Library\n",
        "import numpy as np\n",
        "import matplotlib.pyplot as plt"
      ],
      "execution_count": 1,
      "outputs": []
    },
    {
      "cell_type": "markdown",
      "metadata": {
        "id": "rFqOmZ0sWlSb"
      },
      "source": [
        "## Linear Population Equation\n",
        "The linear population equation is a first order linear differential equation given by, \n",
        "\\begin{equation}\n",
        "\\frac{d p}{dt}=\\alpha_{Birth} p-\\alpha_{Death}p=\\alpha p,\n",
        "\\end{equation}\n",
        "where $p$ is the population at time $t$,\n",
        "for $a\\leq t \\leq b$ years, where $\\alpha$ is the birth rate $\\alpha_{Birth}$ minus death rate $\\alpha_{Death}$, with the initial condition\n",
        "$$ p(a)=A. $$\n",
        "The linear population equation has the exact solution\n",
        "\\begin{equation}\n",
        "p(t)=Aexp(\\alpha (t-a)).\n",
        "\\end{equation}\n",
        "In this simulation we set the parameters of the different equations:\n",
        "*  as $\\alpha=0.3$, with the inital condition $p(0)=3$, over the time period $0\\leq t \\leq 10$."
      ]
    },
    {
      "cell_type": "code",
      "metadata": {
        "id": "Pp1CvTmdWlSb"
      },
      "source": [
        "alpha=0.3"
      ],
      "execution_count": 2,
      "outputs": []
    },
    {
      "cell_type": "markdown",
      "metadata": {
        "id": "f1UjiKPTWlSc"
      },
      "source": [
        "## Discrete Time Domain\n",
        "To numerically approximate the solution we discretise the continuous domain using a step size, $h=1$, \n",
        "which gives\n",
        "\\begin{equation}\n",
        "t_i=0+i h,\n",
        "\\end{equation}\n",
        "for $i=0,...10$.\n",
        "\n",
        "The Figure below illustrate the discrete domain."
      ]
    },
    {
      "cell_type": "code",
      "metadata": {
        "id": "XbnuQOgKWlSc",
        "outputId": "6c48140c-2be2-414b-e484-6641d2392246",
        "colab": {
          "base_uri": "https://localhost:8080/",
          "height": 295
        }
      },
      "source": [
        "h=1\n",
        "t_end=10\n",
        "t=np.arange(0,t_end+h/2,h)\n",
        "fig = plt.figure(1,figsize=(5,4))\n",
        "ax = fig.add_subplot(1,1,1)\n",
        "ax.plot(t,0*t,'o:',color='k')\n",
        "ax.set_xlabel('Time (yrs)')\n",
        "plt.title('Discrete Time')\n",
        "plt.show()"
      ],
      "execution_count": 3,
      "outputs": [
        {
          "output_type": "display_data",
          "data": {
            "image/png": "[encoded data removed]",
            "text/plain": [
              "<Figure size 360x288 with 1 Axes>"
            ]
          },
          "metadata": {
            "tags": [],
            "needs_background": "light"
          }
        }
      ]
    },
    {
      "cell_type": "code",
      "metadata": {
        "id": "yn7hMbZHWlSd"
      },
      "source": [
        "N=int(t_end/h) # Number of Steps\n",
        "P=np.zeros(N+1) # Numerical Solution P\n",
        "P[0]=3\n",
        "p=3*np.exp(alpha*t) # Exact Solution"
      ],
      "execution_count": 4,
      "outputs": []
    },
    {
      "cell_type": "markdown",
      "metadata": {
        "id": "ULggZ3mCWlSd"
      },
      "source": [
        "We numerically approximate the differential equation using Eulers method to give the difference equation\n",
        "\\begin{equation}\n",
        "P_{i}=P_{i-1}+h \\big(\\alpha P_{i-1} \\big),\n",
        "\\end{equation}\n",
        "where $h$ is the stepsize and where $P_i$ is the numerical approximation of $p(t_i)$ at distance $t_i$, for $i=0,...,10.$\n"
      ]
    },
    {
      "cell_type": "code",
      "metadata": {
        "id": "pppLZvPSWlSd"
      },
      "source": [
        "for i in range (1,N+1):\n",
        "    P[i]=P[i-1]+h*(alpha*P[i-1])\n",
        "\n"
      ],
      "execution_count": 5,
      "outputs": []
    },
    {
      "cell_type": "markdown",
      "metadata": {
        "id": "q6KyL4qbWlSe"
      },
      "source": [
        "## Results\n",
        "The plot bellow shows the Numerical solution $P_i$ (left), the analytic solution $p(x)$ (middle) and the error $P(x_i)-P_i$ (right) as a function of time $t$."
      ]
    },
    {
      "cell_type": "code",
      "metadata": {
        "id": "-PpF2O9kWlSe",
        "outputId": "6c9118b8-9258-4722-f9d6-496482e8e2fd",
        "colab": {
          "base_uri": "https://localhost:8080/",
          "height": 302
        }
      },
      "source": [
        "## Plotting Figure\n",
        "fig = plt.figure(1,figsize=(12,4))\n",
        "\n",
        "# --- left hand plot\n",
        "ax = fig.add_subplot(1,3,1)\n",
        "ax.plot(t,P,'o:',color='red',label='Population')\n",
        "ax.legend()\n",
        "\n",
        "ax.set_xlabel('Time (yrs)')\n",
        "ax.set_ylabel('Population (billions)')\n",
        "#ax.legend(loc='best')\n",
        "ax.set_title('Numerical Solution, P')\n",
        "\n",
        "# --- middle plot\n",
        "ax = fig.add_subplot(1,3,2)\n",
        "ax.plot(t,p,'-',color='red',label='Population')\n",
        "\n",
        "\n",
        "ax.legend()\n",
        "\n",
        "\n",
        "ax.set_xlabel('Time (yrs)')\n",
        "ax.set_ylabel('Population (billions)')\n",
        "\n",
        "ax.set_title('Analytic (exact) Solution p(t)')\n",
        "\n",
        "# --- right hand plot\n",
        "ax = fig.add_subplot(1,3,3)\n",
        "ax.plot(t,P-p,'o:',color='red',label='ERROR')\n",
        "ax.legend()\n",
        "\n",
        "\n",
        "ax.set_title('Error')\n",
        "ax.set_ylabel('Error(Population)')\n",
        "ax.set_xlabel('Time (yrs)')\n",
        "\n",
        "\n",
        "# --- title, explanatory text and save\n",
        "fig.suptitle('Linear Population Equation', fontsize=20)\n",
        "plt.tight_layout()\n",
        "plt.subplots_adjust(top=0.85)\n"
      ],
      "execution_count": 6,
      "outputs": [
        {
          "output_type": "display_data",
          "data": {
            "image/png": "[encoded data removed]",
            "text/plain": [
              "<Figure size 864x288 with 3 Axes>"
            ]
          },
          "metadata": {
            "tags": [],
            "needs_background": "light"
          }
        }
      ]
    },
    {
      "cell_type": "markdown",
      "metadata": {
        "id": "M5D75CoRWlSe"
      },
      "source": [
        "# References\n",
        "\n",
        "[1] Stover, Christopher and Weisstein, Eric W. \"Population Growth.\" From MathWorld--A Wolfram Web Resource. http://mathworld.wolfram.com/PopulationGrowth.html"
      ]
    }
  ]
}