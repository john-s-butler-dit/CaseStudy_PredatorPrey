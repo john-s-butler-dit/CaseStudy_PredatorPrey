{
  "nbformat": 4,
  "nbformat_minor": 0,
  "metadata": {
    "kernelspec": {
      "display_name": "Python 3",
      "language": "python",
      "name": "python3"
    },
    "language_info": {
      "codemirror_mode": {
        "name": "ipython",
        "version": 3
      },
      "file_extension": ".py",
      "mimetype": "text/x-python",
      "name": "python",
      "nbconvert_exporter": "python",
      "pygments_lexer": "ipython3",
      "version": "3.8.5"
    },
    "colab": {
      "name": "04_Logisitic Population Differential Equations.ipynb",
      "provenance": [],
      "include_colab_link": true
    }
  },
  "cells": [
    {
      "cell_type": "markdown",
      "metadata": {
        "id": "view-in-github",
        "colab_type": "text"
      },
      "source": [
        "<a href=\"https://colab.research.google.com/github/john-s-butler-dit/CaseStudy_PredatorPrey/blob/master/04_Logisitic%20Population%20Differential%20Equations.ipynb\" target=\"_parent\"><img src=\"https://colab.research.google.com/assets/colab-badge.svg\" alt=\"Open In Colab\"/></a>"
      ]
    },
    {
      "cell_type": "markdown",
      "metadata": {
        "id": "6d8rqHDeWl0I"
      },
      "source": [
        "## Logistic Population Differential Equations"
      ]
    },
    {
      "cell_type": "markdown",
      "metadata": {
        "id": "9tMdcbBWWl0O"
      },
      "source": [
        "\n",
        "In this notebook we will model non-linear logistic population growth [1]"
      ]
    },
    {
      "cell_type": "code",
      "metadata": {
        "id": "mSSbP6n3Wl0O"
      },
      "source": [
        "## Library\n",
        "import numpy as np\n",
        "import math \n",
        "import matplotlib.pyplot as plt"
      ],
      "execution_count": 1,
      "outputs": []
    },
    {
      "cell_type": "markdown",
      "metadata": {
        "id": "Hf8BMVZwWl0P"
      },
      "source": [
        "## Logistic Population Equation\n",
        "The logistic growth differential equation is a non-linear first order differential equation\n",
        "\\begin{equation}\n",
        "\\frac{d p}{dt}=\\alpha_{Birth} p-\\alpha_{Death} p^2\n",
        "\\end{equation}\n",
        "for $a\\leq t \\leq b$ years, where $\\alpha_{Birth}$ is the birth rate and $\\alpha_{Death}$ is the death rate, with the initial condition\n",
        "$$ p(a)=A. $$\n",
        "As the equation is non-linear we must numverically approximate the solution.\n",
        "In this simulation we set the parameters of the different equations:\n",
        "*  as $\\alpha_{Birth}=0.3$ and $\\alpha_{Death}=0.01$, with the inital condition $p(0)=3$, over the time period $0\\leq t \\leq 10$."
      ]
    },
    {
      "cell_type": "code",
      "metadata": {
        "id": "YF2yw4B-Wl0P"
      },
      "source": [
        "alpha_Birth=0.4\n",
        "alpha_Death=0.1"
      ],
      "execution_count": 2,
      "outputs": []
    },
    {
      "cell_type": "markdown",
      "metadata": {
        "id": "bvohyQ-BWl0P"
      },
      "source": [
        "## Discrete Domain \n",
        "To numerically approximate the solution we discretise the continuous domain using a step size, $h=1$, \n",
        "which gives\n",
        "\\begin{equation}\n",
        "t_i=0+i h,\n",
        "\\end{equation}\n",
        "for $i=0,...10$.\n",
        "The figure below illustrate the discrete domain."
      ]
    },
    {
      "cell_type": "code",
      "metadata": {
        "id": "eIa0FPx7Wl0Q",
        "outputId": "e607c03b-488e-425b-de1e-315ad176073c",
        "colab": {
          "base_uri": "https://localhost:8080/",
          "height": 295
        }
      },
      "source": [
        "h=0.1\n",
        "t_end=30\n",
        "t=np.arange(0,t_end+h/2,h)\n",
        "fig = plt.figure(1,figsize=(5,4))\n",
        "ax = fig.add_subplot(1,1,1)\n",
        "ax.plot(t,0*t,'o:',color='k')\n",
        "ax.set_xlabel('Time (yrs)')\n",
        "plt.title('Discrete Time Domain')\n",
        "plt.show()"
      ],
      "execution_count": 3,
      "outputs": [
        {
          "output_type": "display_data",
          "data": {
            "image/png": "[encoded data removed]",
            "text/plain": [
              "<Figure size 360x288 with 1 Axes>"
            ]
          },
          "metadata": {
            "tags": [],
            "needs_background": "light"
          }
        }
      ]
    },
    {
      "cell_type": "code",
      "metadata": {
        "id": "pqMl2cClWl0R"
      },
      "source": [
        "N=int(t_end/h) # Number of Steps\n",
        "P=np.zeros(N+1) # Numerical Solution P\n",
        "P[0]=3\n"
      ],
      "execution_count": 4,
      "outputs": []
    },
    {
      "cell_type": "markdown",
      "metadata": {
        "id": "LwujljB9Wl0R"
      },
      "source": [
        "We numerically approximate the differential equation using Eulers method to give the difference equation\n",
        "\\begin{equation}\n",
        "\\frac{P_{i+1}-P_i}{h}=\\alpha_{Birth}P_i-\\alpha_{Death}P_i^2\n",
        "\\end{equation}\n",
        "re-arranging\n",
        "\\begin{equation}\n",
        "\\color{red}{P_{i+1}}=P_i+h\\big(\\alpha_{Birth}P_i-\\alpha_{Death}P_i^2\\big)\n",
        "\\end{equation}\n",
        "\n",
        "where $h$ is the stepsize and where $P_i$ is the numerical approximation of $p(t_i)$ at time $t_i$, for $i=0,...,10$\n"
      ]
    },
    {
      "cell_type": "code",
      "metadata": {
        "id": "51anXmYqWl0S"
      },
      "source": [
        "for i in range (0,N):\n",
        "    P[i+1]=P[i]+h*(alpha_Birth*P[i]-alpha_Death*P[i]*P[i])\n",
        "\n"
      ],
      "execution_count": 5,
      "outputs": []
    },
    {
      "cell_type": "markdown",
      "metadata": {
        "id": "RsaqDSO8Wl0S"
      },
      "source": [
        "## Results\n",
        "The plot bellow shows the Numerical solution $P_i$ of the Logistic Population as a function of time $t$."
      ]
    },
    {
      "cell_type": "code",
      "metadata": {
        "id": "I-EcDL94Wl0S",
        "outputId": "4f061de7-6224-4eb5-af6f-dd989c305fb8",
        "colab": {
          "base_uri": "https://localhost:8080/",
          "height": 281
        }
      },
      "source": [
        "## Plotting Figure\n",
        "fig = plt.figure(1,figsize=(4,4))\n",
        "\n",
        "ax = fig.add_subplot(1,1,1)\n",
        "\n",
        "ax.plot(t,P,'o:',color='red',label='Population')\n",
        "ax.legend()\n",
        "\n",
        "ax.set_xlabel('Time (yrs)')\n",
        "ax.set_ylabel('Population (billions)')\n",
        "#ax.legend(loc='best')\n",
        "ax.set_title('Numerical Solution, P')\n",
        "\n",
        "\n",
        "\n",
        "plt.tight_layout()\n",
        "plt.subplots_adjust(top=0.85)\n",
        "plt.show()\n"
      ],
      "execution_count": 6,
      "outputs": [
        {
          "output_type": "display_data",
          "data": {
            "image/png": "[encoded data removed]",
            "text/plain": [
              "<Figure size 288x288 with 1 Axes>"
            ]
          },
          "metadata": {
            "tags": [],
            "needs_background": "light"
          }
        }
      ]
    },
    {
      "cell_type": "markdown",
      "metadata": {
        "id": "oSybAbgxWl0S"
      },
      "source": [
        "# References\n",
        "\n",
        "[1] Stover, Christopher and Weisstein, Eric W. \"Population Growth.\" From MathWorld--A Wolfram Web Resource. http://mathworld.wolfram.com/PopulationGrowth.html\n",
        "[2]  Vito Volterra.  Fluctuations in the abundance of a species considered mathematically. Nature,118:558–560,1926.\n",
        "\n",
        "[3] Alfred J Lotka.   Analytical note on certain rhythmic  relations inorganic  systems.Proceedings of the National Academy of Sciences,6(7):410–415,1920."
      ]
    },
    {
      "cell_type": "code",
      "metadata": {
        "id": "Z0qm9M2yWl0T"
      },
      "source": [
        ""
      ],
      "execution_count": 6,
      "outputs": []
    }
  ]
}