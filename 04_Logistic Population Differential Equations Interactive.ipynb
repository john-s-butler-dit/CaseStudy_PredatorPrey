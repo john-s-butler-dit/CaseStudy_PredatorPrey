{
 "cells": [
  {
   "cell_type": "markdown",
   "metadata": {
    "id": "6d8rqHDeWl0I"
   },
   "source": [
    "## Logistic Population Differential Equations"
   ]
  },
  {
   "cell_type": "markdown",
   "metadata": {
    "id": "9tMdcbBWWl0O"
   },
   "source": [
    "\n",
    "In this notebook we will model non-linear logistic population growth [1] and interact with the parameters of the space."
   ]
  },
  {
   "cell_type": "code",
   "execution_count": 1,
   "metadata": {
    "id": "mSSbP6n3Wl0O"
   },
   "outputs": [],
   "source": [
    "## Library\n",
    "import numpy as np\n",
    "import math \n",
    "import matplotlib.pyplot as plt\n",
    "# @title Figure Settings\n",
    "import IPython.display as ipd\n",
    "from matplotlib import gridspec\n",
    "\n",
    "import ipywidgets as widgets  # interactive display\n",
    "%config InlineBackend.figure_format = 'retina'\n",
    "\n",
    "# use NMA plot style\n",
    "plt.style.use(\"https://raw.githubusercontent.com/NeuromatchAcademy/content-creation/main/nma.mplstyle\")\n",
    "my_layout = widgets.Layout()"
   ]
  },
  {
   "cell_type": "markdown",
   "metadata": {
    "id": "Hf8BMVZwWl0P"
   },
   "source": [
    "## Logistic Population Equation\n",
    "The logistic growth differential equation is a non-linear first order differential equation\n",
    "\\begin{equation}\n",
    "\\frac{d p}{dt}=\\alpha_{Birth} p-\\alpha_{Death} p^2\n",
    "\\end{equation}\n",
    "for $a\\leq t \\leq b$ years, where $\\alpha_{Birth}$ is the birth rate and $\\alpha_{Death}$ is the death rate, with the initial condition\n",
    "$$ p(a)=A. $$\n",
    "As the equation is non-linear we must numverically approximate the solution.\n",
    "In this simulation we set the parameters of the different equations:\n",
    "*  as $\\alpha_{Birth}=0.3$ and $\\alpha_{Death}=0.01$, with the inital condition $p(0)=3$, over the time period $0\\leq t \\leq 20$."
   ]
  },
  {
   "cell_type": "markdown",
   "metadata": {
    "id": "bvohyQ-BWl0P"
   },
   "source": [
    "## Discrete Domain \n",
    "To numerically approximate the solution we discretise the continuous domain using a step size, $h=1$, \n",
    "which gives\n",
    "\\begin{equation}\n",
    "t_i=0+i h,\n",
    "\\end{equation}\n",
    "for $i=0,...20$.\n",
    "The figure below illustrate the discrete domain."
   ]
  },
  {
   "cell_type": "code",
   "execution_count": 3,
   "metadata": {
    "colab": {
     "base_uri": "https://localhost:8080/",
     "height": 295
    },
    "id": "eIa0FPx7Wl0Q",
    "outputId": "b06ee305-cce0-46cd-e227-0647be980a40"
   },
   "outputs": [
    {
     "data": {
      "image/png": "[encoded data removed]",
      "text/plain": [
       "<Figure size 360x288 with 1 Axes>"
      ]
     },
     "metadata": {
      "image/png": {
       "height": 270,
       "width": 342
      },
      "needs_background": "light"
     },
     "output_type": "display_data"
    }
   ],
   "source": [
    "h=1\n",
    "a=0\n",
    "b=20\n",
    "t=np.arange(a,b+h/2,h)\n",
    "fig = plt.figure(1,figsize=(5,4))\n",
    "ax = fig.add_subplot(1,1,1)\n",
    "ax.plot(t,0*t,'o:',color='k')\n",
    "ax.set_xlabel('Time (yrs)')\n",
    "plt.title('Discrete Time Domain')\n",
    "plt.show()"
   ]
  },
  {
   "cell_type": "code",
   "execution_count": 4,
   "metadata": {
    "id": "pqMl2cClWl0R"
   },
   "outputs": [],
   "source": [
    "N=int((b-a)/h) # Number of Steps\n",
    "P=np.zeros(N+1) # Numerical Solution P\n",
    "P[0]=3\n"
   ]
  },
  {
   "cell_type": "markdown",
   "metadata": {
    "id": "LwujljB9Wl0R"
   },
   "source": [
    "We numerically approximate the differential equation using Eulers method to give the difference equation\n",
    "\\begin{equation}\n",
    "\\frac{P_{i+1}-P_i}{h}=\\alpha_{Birth}P_i-\\alpha_{Death}P_i^2\n",
    "\\end{equation}\n",
    "re-arranging\n",
    "\\begin{equation}\n",
    "\\color{red}{P_{i+1}}=\\color{green}{P_i}+h\\big(\\alpha_{Birth}\\color{green}{P_i}-\\alpha_{Death}\\color{green}{P_i^2}\\big)\n",
    "\\end{equation}\n",
    "\n",
    "where $h$ is the stepsize and where $P_i$ is the numerical approximation of $p(t_i)$ at time $t_i$, for $i=0,...,10$\n"
   ]
  },
  {
   "cell_type": "code",
   "execution_count": 12,
   "metadata": {
    "id": "51anXmYqWl0S"
   },
   "outputs": [],
   "source": [
    "def Logistic_Pop(alpha_Birth,alpha_Death):\n",
    "    \"\"\"\n",
    "    Args:\n",
    "      alpha_Birth  : Birth Rate\n",
    "      alpha_Death : Death Rate\n",
    "\n",
    "    \"\"\"\n",
    "    h=1 # step-size\n",
    "    a=0 # start time\n",
    "    b=20 # end time\n",
    "    t=np.arange(a,b+h/2,h)\n",
    "    N=int((b-a)/h) # Number of Steps\n",
    "    P=np.zeros(N+1) # Numerical Solution P\n",
    "    P[0]=3\n",
    "\n",
    "\n",
    "    for i in range (0,N):\n",
    "        # Numerical Solution\n",
    "        P[i+1]=P[i]+h*(alpha_Birth*P[i]-alpha_Death*P[i]*P[i])\n",
    "\n",
    "    ## Plotting Figure\n",
    "    fig = plt.figure(1,figsize=(6,6))\n",
    "\n",
    "    ax = fig.add_subplot(1,1,1)\n",
    "\n",
    "    ax.plot(t,P,'o:',color='red',label='Population')\n",
    "    ax.legend()\n",
    "    ax.set_xlabel('Time (yrs)')\n",
    "    ax.set_ylabel('Population (billions)')\n",
    "    ax.set_title('Numerical Solution, P')\n",
    "    plt.tight_layout()\n",
    "    plt.subplots_adjust(top=0.85)\n",
    "    plt.show()\n",
    "\n"
   ]
  },
  {
   "cell_type": "markdown",
   "metadata": {
    "id": "RsaqDSO8Wl0S"
   },
   "source": [
    "## Results\n",
    "The plot bellow shows the Numerical solution $P_i$ of the Logistic Population as a function of time $t$."
   ]
  },
  {
   "cell_type": "code",
   "execution_count": 13,
   "metadata": {
    "colab": {
     "base_uri": "https://localhost:8080/",
     "height": 281
    },
    "id": "I-EcDL94Wl0S",
    "outputId": "c0444cb5-1124-492d-e291-754cd7285630"
   },
   "outputs": [
    {
     "data": {
      "application/vnd.jupyter.widget-view+json": {
       "model_id": "aba7ef8f4e8e4cf78b1fe984f5b15940",
       "version_major": 2,
       "version_minor": 0
      },
      "text/plain": [
       "interactive(children=(FloatSlider(value=0.3, description='alpha_B', layout=Layout(width='450px'), max=1.0, ste…"
      ]
     },
     "metadata": {},
     "output_type": "display_data"
    }
   ],
   "source": [
    "my_layout.width = '450px'\n",
    "@widgets.interact(\n",
    "    alpha_B=widgets.FloatSlider(.3, min=0., max=1., step=.01, layout=my_layout),\n",
    "    alpha_D=widgets.FloatSlider(.01, min=0.00, max=0.5, step=.01, layout=my_layout)\n",
    ")\n",
    "def Pop_widget(alpha_B,alpha_D):\n",
    "  Logistic_Pop(alpha_Birth=alpha_B,alpha_Death=alpha_D)\n",
    "  plt.show()"
   ]
  },
  {
   "cell_type": "markdown",
   "metadata": {
    "id": "oSybAbgxWl0S"
   },
   "source": [
    "# References\n",
    "\n",
    "[1] Stover, Christopher and Weisstein, Eric W. \"Population Growth.\" From MathWorld--A Wolfram Web Resource. http://mathworld.wolfram.com/PopulationGrowth.html\n",
    "\n",
    "[2]  Vito Volterra.  Fluctuations in the abundance of a species considered mathematically. Nature,118:558–560,1926.\n",
    "\n",
    "[3] Alfred J Lotka.   Analytical note on certain rhythmic  relations inorganic  systems.Proceedings of the National Academy of Sciences,6(7):410–415,1920."
   ]
  },
  {
   "cell_type": "code",
   "execution_count": null,
   "metadata": {
    "id": "Z0qm9M2yWl0T"
   },
   "outputs": [],
   "source": []
  }
 ],
 "metadata": {
  "colab": {
   "include_colab_link": true,
   "name": "04_Logisitic Population Differential Equations.ipynb",
   "provenance": []
  },
  "kernelspec": {
   "display_name": "Python 3 (ipykernel)",
   "language": "python",
   "name": "python3"
  },
  "language_info": {
   "codemirror_mode": {
    "name": "ipython",
    "version": 3
   },
   "file_extension": ".py",
   "mimetype": "text/x-python",
   "name": "python",
   "nbconvert_exporter": "python",
   "pygments_lexer": "ipython3",
   "version": "3.8.12"
  }
 },
 "nbformat": 4,
 "nbformat_minor": 1
}
