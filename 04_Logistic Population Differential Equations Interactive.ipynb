{
  "cells": [
    {
      "cell_type": "markdown",
      "metadata": {
        "id": "view-in-github",
        "colab_type": "text"
      },
      "source": [
        "<a href=\"https://colab.research.google.com/github/john-s-butler-dit/CaseStudy_PredatorPrey/blob/master/04_Logistic%20Population%20Differential%20Equations%20Interactive.ipynb\" target=\"_parent\"><img src=\"https://colab.research.google.com/assets/colab-badge.svg\" alt=\"Open In Colab\"/></a>"
      ]
    },
    {
      "cell_type": "markdown",
      "metadata": {
        "id": "6d8rqHDeWl0I"
      },
      "source": [
        "## Logistic Population Differential Equations"
      ]
    },
    {
      "cell_type": "markdown",
      "metadata": {
        "id": "9tMdcbBWWl0O"
      },
      "source": [
        "\n",
        "In this notebook we will model non-linear logistic population growth [1] and interact with the parameters of the space."
      ]
    },
    {
      "cell_type": "code",
      "execution_count": 1,
      "metadata": {
        "id": "mSSbP6n3Wl0O"
      },
      "outputs": [],
      "source": [
        "## Library\n",
        "import numpy as np\n",
        "import math \n",
        "import matplotlib.pyplot as plt\n",
        "# @title Figure Settings\n",
        "import IPython.display as ipd\n",
        "from matplotlib import gridspec\n",
        "\n",
        "import ipywidgets as widgets  # interactive display\n",
        "%config InlineBackend.figure_format = 'retina'\n",
        "\n",
        "# use NMA plot style\n",
        "plt.style.use(\"https://raw.githubusercontent.com/NeuromatchAcademy/content-creation/main/nma.mplstyle\")\n",
        "my_layout = widgets.Layout()"
      ]
    },
    {
      "cell_type": "markdown",
      "metadata": {
        "id": "Hf8BMVZwWl0P"
      },
      "source": [
        "## Logistic Population Equation\n",
        "The logistic growth differential equation is a non-linear first order differential equation\n",
        "\\begin{equation}\n",
        "\\frac{d p}{dt}=\\alpha_{Birth} p-\\alpha_{Death} p^2\n",
        "\\end{equation}\n",
        "for $a\\leq t \\leq b$ years, where $\\alpha_{Birth}$ is the birth rate and $\\alpha_{Death}$ is the death rate, with the initial condition\n",
        "$$ p(a)=A. $$\n",
        "As the equation is non-linear we must numverically approximate the solution.\n",
        "In this simulation we set the parameters of the different equations:\n",
        "*  as $\\alpha_{Birth}=0.3$ and $\\alpha_{Death}=0.01$, with the inital condition $p(0)=3$, over the time period $0\\leq t \\leq 20$."
      ]
    },
    {
      "cell_type": "markdown",
      "metadata": {
        "id": "bvohyQ-BWl0P"
      },
      "source": [
        "## Discrete Domain \n",
        "To numerically approximate the solution we discretise the continuous domain using a step size, $h=1$, \n",
        "which gives\n",
        "\\begin{equation}\n",
        "t_i=0+i h,\n",
        "\\end{equation}\n",
        "for $i=0,...20$.\n",
        "The figure below illustrate the discrete domain."
      ]
    },
    {
      "cell_type": "code",
      "execution_count": 2,
      "metadata": {
        "colab": {
          "base_uri": "https://localhost:8080/",
          "height": 297
        },
        "id": "eIa0FPx7Wl0Q",
        "outputId": "1d35f98c-5a77-4073-d03f-91359d14264c"
      },
      "outputs": [
        {
          "output_type": "display_data",
          "data": {
            "image/png": "[encoded data removed]",
            "text/plain": [
              "<Figure size 360x288 with 1 Axes>"
            ]
          },
          "metadata": {
            "image/png": {
              "width": 352,
              "height": 280
            },
            "needs_background": "light"
          }
        }
      ],
      "source": [
        "h=1\n",
        "a=0\n",
        "b=20\n",
        "t=np.arange(a,b+h/2,h)\n",
        "fig = plt.figure(1,figsize=(5,4))\n",
        "ax = fig.add_subplot(1,1,1)\n",
        "ax.plot(t,0*t,'o:',color='k')\n",
        "ax.set_xlabel('Time (yrs)')\n",
        "plt.title('Discrete Time Domain')\n",
        "plt.show()"
      ]
    },
    {
      "cell_type": "code",
      "execution_count": 3,
      "metadata": {
        "id": "pqMl2cClWl0R"
      },
      "outputs": [],
      "source": [
        "N=int((b-a)/h) # Number of Steps\n",
        "P=np.zeros(N+1) # Numerical Solution P\n",
        "P[0]=3\n"
      ]
    },
    {
      "cell_type": "markdown",
      "metadata": {
        "id": "LwujljB9Wl0R"
      },
      "source": [
        "We numerically approximate the differential equation using Eulers method to give the difference equation\n",
        "\\begin{equation}\n",
        "\\frac{P_{i+1}-P_i}{h}=\\alpha_{Birth}P_i-\\alpha_{Death}P_i^2\n",
        "\\end{equation}\n",
        "re-arranging\n",
        "\\begin{equation}\n",
        "\\color{red}{P_{i+1}}=\\color{green}{P_i}+h\\big(\\alpha_{Birth}\\color{green}{P_i}-\\alpha_{Death}\\color{green}{P_i^2}\\big)\n",
        "\\end{equation}\n",
        "\n",
        "where $h$ is the stepsize and where $P_i$ is the numerical approximation of $p(t_i)$ at time $t_i$, for $i=0,...,10$\n"
      ]
    },
    {
      "cell_type": "code",
      "execution_count": 4,
      "metadata": {
        "id": "51anXmYqWl0S"
      },
      "outputs": [],
      "source": [
        "def Logistic_Pop(alpha_Birth,alpha_Death):\n",
        "    \"\"\"\n",
        "    Args:\n",
        "      alpha_Birth  : Birth Rate\n",
        "      alpha_Death : Death Rate\n",
        "\n",
        "    \"\"\"\n",
        "    h=1 # step-size\n",
        "    a=0 # start time\n",
        "    b=20 # end time\n",
        "    t=np.arange(a,b+h/2,h)\n",
        "    N=int((b-a)/h) # Number of Steps\n",
        "    P=np.zeros(N+1) # Numerical Solution P\n",
        "    P[0]=3\n",
        "\n",
        "\n",
        "    for i in range (0,N):\n",
        "        # Numerical Solution\n",
        "        P[i+1]=P[i]+h*(alpha_Birth*P[i]-alpha_Death*P[i]*P[i])\n",
        "\n",
        "    ## Plotting Figure\n",
        "    fig = plt.figure(1,figsize=(6,6))\n",
        "\n",
        "    ax = fig.add_subplot(1,1,1)\n",
        "\n",
        "    ax.plot(t,P,'o:',color='red',label='Population')\n",
        "    ax.legend()\n",
        "    ax.set_xlabel('Time (yrs)')\n",
        "    ax.set_ylabel('Population (billions)')\n",
        "    ax.set_title('Numerical Solution, P')\n",
        "    plt.tight_layout()\n",
        "    plt.subplots_adjust(top=0.85)\n",
        "    plt.show()\n",
        "\n"
      ]
    },
    {
      "cell_type": "markdown",
      "metadata": {
        "id": "RsaqDSO8Wl0S"
      },
      "source": [
        "## Results\n",
        "The plot bellow shows the Numerical solution $P_i$ of the Logistic Population as a function of time $t$."
      ]
    },
    {
      "cell_type": "code",
      "execution_count": 5,
      "metadata": {
        "colab": {
          "base_uri": "https://localhost:8080/",
          "height": 505,
          "referenced_widgets": [
            "dc46d040d665445f9ae6553bfc3b7c36",
            "4ae1d691045842a8804cccca130d530e",
            "981d6a70f6c44b779609ded39e4f21ef",
            "67dd2f506eca4b0dbd2fab2e5eeae9cf",
            "5716ad2016e54cf4857fc5dedee67e09",
            "9ff3db9824fc4e69bfe8c5fe6b303d41",
            "e85275daa570420f8b8009309ee0abcc",
            "50b1dc2c4dcc4065a2ac4c3211bce31d",
            "2e287702d72b4343a0f5f1b8855667dc"
          ]
        },
        "id": "I-EcDL94Wl0S",
        "outputId": "c6f0dac3-dd4d-4210-a1cd-ffb9b8857596"
      },
      "outputs": [
        {
          "output_type": "display_data",
          "data": {
            "application/vnd.jupyter.widget-view+json": {
              "model_id": "dc46d040d665445f9ae6553bfc3b7c36",
              "version_minor": 0,
              "version_major": 2
            },
            "text/plain": [
              "interactive(children=(FloatSlider(value=0.3, description='alpha_B', layout=Layout(width='450px'), max=1.0, ste…"
            ]
          },
          "metadata": {}
        }
      ],
      "source": [
        "my_layout.width = '450px'\n",
        "@widgets.interact(\n",
        "    alpha_B=widgets.FloatSlider(.3, min=0., max=1., step=.01, layout=my_layout),\n",
        "    alpha_D=widgets.FloatSlider(.01, min=0.00, max=0.5, step=.01, layout=my_layout)\n",
        ")\n",
        "def Pop_widget(alpha_B,alpha_D):\n",
        "  Logistic_Pop(alpha_Birth=alpha_B,alpha_Death=alpha_D)\n",
        "  plt.show()"
      ]
    },
    {
      "cell_type": "markdown",
      "metadata": {
        "id": "oSybAbgxWl0S"
      },
      "source": [
        "# References\n",
        "\n",
        "[1] Stover, Christopher and Weisstein, Eric W. \"Population Growth.\" From MathWorld--A Wolfram Web Resource. http://mathworld.wolfram.com/PopulationGrowth.html\n",
        "\n",
        "[2]  Vito Volterra.  Fluctuations in the abundance of a species considered mathematically. Nature,118:558–560,1926.\n",
        "\n",
        "[3] Alfred J Lotka.   Analytical note on certain rhythmic  relations inorganic  systems.Proceedings of the National Academy of Sciences,6(7):410–415,1920."
      ]
    },
    {
      "cell_type": "code",
      "execution_count": 5,
      "metadata": {
        "id": "Z0qm9M2yWl0T"
      },
      "outputs": [],
      "source": [
        ""
      ]
    }
  ],
  "metadata": {
    "colab": {
      "name": "04_Logisitic Population Differential Equations.ipynb",
      "provenance": [],
      "include_colab_link": true
    },
    "kernelspec": {
      "display_name": "Python 3 (ipykernel)",
      "language": "python",
      "name": "python3"
    },
    "language_info": {
      "codemirror_mode": {
        "name": "ipython",
        "version": 3
      },
      "file_extension": ".py",
      "mimetype": "text/x-python",
      "name": "python",
      "nbconvert_exporter": "python",
      "pygments_lexer": "ipython3",
      "version": "3.8.12"
    },
    "widgets": {
      "application/vnd.jupyter.widget-state+json": {
        "dc46d040d665445f9ae6553bfc3b7c36": {
          "model_module": "@jupyter-widgets/controls",
          "model_name": "VBoxModel",
          "model_module_version": "1.5.0",
          "state": {
            "_view_name": "VBoxView",
            "_dom_classes": [
              "widget-interact"
            ],
            "_model_name": "VBoxModel",
            "_view_module": "@jupyter-widgets/controls",
            "_model_module_version": "1.5.0",
            "_view_count": null,
            "_view_module_version": "1.5.0",
            "box_style": "",
            "layout": "IPY_MODEL_4ae1d691045842a8804cccca130d530e",
            "_model_module": "@jupyter-widgets/controls",
            "children": [
              "IPY_MODEL_981d6a70f6c44b779609ded39e4f21ef",
              "IPY_MODEL_67dd2f506eca4b0dbd2fab2e5eeae9cf",
              "IPY_MODEL_5716ad2016e54cf4857fc5dedee67e09"
            ]
          }
        },
        "4ae1d691045842a8804cccca130d530e": {
          "model_module": "@jupyter-widgets/base",
          "model_name": "LayoutModel",
          "model_module_version": "1.2.0",
          "state": {
            "_view_name": "LayoutView",
            "grid_template_rows": null,
            "right": null,
            "justify_content": null,
            "_view_module": "@jupyter-widgets/base",
            "overflow": null,
            "_model_module_version": "1.2.0",
            "_view_count": null,
            "flex_flow": null,
            "width": null,
            "min_width": null,
            "border": null,
            "align_items": null,
            "bottom": null,
            "_model_module": "@jupyter-widgets/base",
            "top": null,
            "grid_column": null,
            "overflow_y": null,
            "overflow_x": null,
            "grid_auto_flow": null,
            "grid_area": null,
            "grid_template_columns": null,
            "flex": null,
            "_model_name": "LayoutModel",
            "justify_items": null,
            "grid_row": null,
            "max_height": null,
            "align_content": null,
            "visibility": null,
            "align_self": null,
            "height": null,
            "min_height": null,
            "padding": null,
            "grid_auto_rows": null,
            "grid_gap": null,
            "max_width": null,
            "order": null,
            "_view_module_version": "1.2.0",
            "grid_template_areas": null,
            "object_position": null,
            "object_fit": null,
            "grid_auto_columns": null,
            "margin": null,
            "display": null,
            "left": null
          }
        },
        "981d6a70f6c44b779609ded39e4f21ef": {
          "model_module": "@jupyter-widgets/controls",
          "model_name": "FloatSliderModel",
          "model_module_version": "1.5.0",
          "state": {
            "_view_name": "FloatSliderView",
            "style": "IPY_MODEL_9ff3db9824fc4e69bfe8c5fe6b303d41",
            "_dom_classes": [],
            "description": "alpha_B",
            "step": 0.01,
            "_model_name": "FloatSliderModel",
            "orientation": "horizontal",
            "max": 1,
            "_view_module": "@jupyter-widgets/controls",
            "_model_module_version": "1.5.0",
            "value": 0.3,
            "_view_count": null,
            "disabled": false,
            "_view_module_version": "1.5.0",
            "min": 0,
            "continuous_update": true,
            "readout_format": ".2f",
            "description_tooltip": null,
            "readout": true,
            "_model_module": "@jupyter-widgets/controls",
            "layout": "IPY_MODEL_e85275daa570420f8b8009309ee0abcc"
          }
        },
        "67dd2f506eca4b0dbd2fab2e5eeae9cf": {
          "model_module": "@jupyter-widgets/controls",
          "model_name": "FloatSliderModel",
          "model_module_version": "1.5.0",
          "state": {
            "_view_name": "FloatSliderView",
            "style": "IPY_MODEL_50b1dc2c4dcc4065a2ac4c3211bce31d",
            "_dom_classes": [],
            "description": "alpha_D",
            "step": 0.01,
            "_model_name": "FloatSliderModel",
            "orientation": "horizontal",
            "max": 0.5,
            "_view_module": "@jupyter-widgets/controls",
            "_model_module_version": "1.5.0",
            "value": 0,
            "_view_count": null,
            "disabled": false,
            "_view_module_version": "1.5.0",
            "min": 0,
            "continuous_update": true,
            "readout_format": ".2f",
            "description_tooltip": null,
            "readout": true,
            "_model_module": "@jupyter-widgets/controls",
            "layout": "IPY_MODEL_e85275daa570420f8b8009309ee0abcc"
          }
        },
        "5716ad2016e54cf4857fc5dedee67e09": {
          "model_module": "@jupyter-widgets/output",
          "model_name": "OutputModel",
          "model_module_version": "1.0.0",
          "state": {
            "_view_name": "OutputView",
            "msg_id": "",
            "_dom_classes": [],
            "_model_name": "OutputModel",
            "outputs": [
              {
                "output_type": "display_data",
                "data": {
                  "image/png": "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\n",
                  "text/plain": "<Figure size 432x432 with 1 Axes>"
                },
                "metadata": {
                  "image/png": {
                    "width": 424,
                    "height": 424
                  },
                  "needs_background": "light"
                }
              }
            ],
            "_view_module": "@jupyter-widgets/output",
            "_model_module_version": "1.0.0",
            "_view_count": null,
            "_view_module_version": "1.0.0",
            "layout": "IPY_MODEL_2e287702d72b4343a0f5f1b8855667dc",
            "_model_module": "@jupyter-widgets/output"
          }
        },
        "9ff3db9824fc4e69bfe8c5fe6b303d41": {
          "model_module": "@jupyter-widgets/controls",
          "model_name": "SliderStyleModel",
          "model_module_version": "1.5.0",
          "state": {
            "_view_name": "StyleView",
            "handle_color": null,
            "_model_name": "SliderStyleModel",
            "description_width": "",
            "_view_module": "@jupyter-widgets/base",
            "_model_module_version": "1.5.0",
            "_view_count": null,
            "_view_module_version": "1.2.0",
            "_model_module": "@jupyter-widgets/controls"
          }
        },
        "e85275daa570420f8b8009309ee0abcc": {
          "model_module": "@jupyter-widgets/base",
          "model_name": "LayoutModel",
          "model_module_version": "1.2.0",
          "state": {
            "_view_name": "LayoutView",
            "grid_template_rows": null,
            "right": null,
            "justify_content": null,
            "_view_module": "@jupyter-widgets/base",
            "overflow": null,
            "_model_module_version": "1.2.0",
            "_view_count": null,
            "flex_flow": null,
            "width": "450px",
            "min_width": null,
            "border": null,
            "align_items": null,
            "bottom": null,
            "_model_module": "@jupyter-widgets/base",
            "top": null,
            "grid_column": null,
            "overflow_y": null,
            "overflow_x": null,
            "grid_auto_flow": null,
            "grid_area": null,
            "grid_template_columns": null,
            "flex": null,
            "_model_name": "LayoutModel",
            "justify_items": null,
            "grid_row": null,
            "max_height": null,
            "align_content": null,
            "visibility": null,
            "align_self": null,
            "height": null,
            "min_height": null,
            "padding": null,
            "grid_auto_rows": null,
            "grid_gap": null,
            "max_width": null,
            "order": null,
            "_view_module_version": "1.2.0",
            "grid_template_areas": null,
            "object_position": null,
            "object_fit": null,
            "grid_auto_columns": null,
            "margin": null,
            "display": null,
            "left": null
          }
        },
        "50b1dc2c4dcc4065a2ac4c3211bce31d": {
          "model_module": "@jupyter-widgets/controls",
          "model_name": "SliderStyleModel",
          "model_module_version": "1.5.0",
          "state": {
            "_view_name": "StyleView",
            "handle_color": null,
            "_model_name": "SliderStyleModel",
            "description_width": "",
            "_view_module": "@jupyter-widgets/base",
            "_model_module_version": "1.5.0",
            "_view_count": null,
            "_view_module_version": "1.2.0",
            "_model_module": "@jupyter-widgets/controls"
          }
        },
        "2e287702d72b4343a0f5f1b8855667dc": {
          "model_module": "@jupyter-widgets/base",
          "model_name": "LayoutModel",
          "model_module_version": "1.2.0",
          "state": {
            "_view_name": "LayoutView",
            "grid_template_rows": null,
            "right": null,
            "justify_content": null,
            "_view_module": "@jupyter-widgets/base",
            "overflow": null,
            "_model_module_version": "1.2.0",
            "_view_count": null,
            "flex_flow": null,
            "width": null,
            "min_width": null,
            "border": null,
            "align_items": null,
            "bottom": null,
            "_model_module": "@jupyter-widgets/base",
            "top": null,
            "grid_column": null,
            "overflow_y": null,
            "overflow_x": null,
            "grid_auto_flow": null,
            "grid_area": null,
            "grid_template_columns": null,
            "flex": null,
            "_model_name": "LayoutModel",
            "justify_items": null,
            "grid_row": null,
            "max_height": null,
            "align_content": null,
            "visibility": null,
            "align_self": null,
            "height": null,
            "min_height": null,
            "padding": null,
            "grid_auto_rows": null,
            "grid_gap": null,
            "max_width": null,
            "order": null,
            "_view_module_version": "1.2.0",
            "grid_template_areas": null,
            "object_position": null,
            "object_fit": null,
            "grid_auto_columns": null,
            "margin": null,
            "display": null,
            "left": null
          }
        }
      }
    }
  },
  "nbformat": 4,
  "nbformat_minor": 0
}