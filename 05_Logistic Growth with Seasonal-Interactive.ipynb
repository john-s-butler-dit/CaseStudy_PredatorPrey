{
 "cells": [
  {
   "cell_type": "markdown",
   "metadata": {
    "id": "ZrBtAG8iWmMr"
   },
   "source": [
    "## Logistic Population with seasonal birth pattern Differential Equations"
   ]
  },
  {
   "cell_type": "markdown",
   "metadata": {
    "id": "DQDX-SRRWmMw"
   },
   "source": [
    "In this notebook we will numerically simulate a non-linear population growth with an oscilation due to seasonal birth [1]"
   ]
  },
  {
   "cell_type": "code",
   "execution_count": 1,
   "metadata": {
    "id": "5pyyaHpcWmMw"
   },
   "outputs": [],
   "source": [
    "## Library\n",
    "import numpy as np\n",
    "import math \n",
    "import matplotlib.pyplot as plt\n",
    "# @title Figure Settings\n",
    "import IPython.display as ipd\n",
    "from matplotlib import gridspec\n",
    "\n",
    "import ipywidgets as widgets  # interactive display\n",
    "%config InlineBackend.figure_format = 'retina'\n",
    "\n",
    "# use NMA plot style\n",
    "plt.style.use(\"https://raw.githubusercontent.com/NeuromatchAcademy/content-creation/main/nma.mplstyle\")\n",
    "my_layout = widgets.Layout()"
   ]
  },
  {
   "cell_type": "markdown",
   "metadata": {
    "id": "Gy5pf0CVWmMx"
   },
   "source": [
    "## Logistic Population Equation\n",
    "The logistic growth differential equation is a non-linear first order differential equation\n",
    "\\begin{equation}\n",
    "\\frac{d p}{dt}=\\alpha_{Birth} p-\\alpha_{Death} p^2+p\\sin(2\\pi t)\n",
    "\\end{equation}\n",
    "for $a\\leq t \\leq b$ years, where $\\alpha_{Birth}$ is the birth rate and $\\alpha_{Death}$ is the death rate, with the initial condition\n",
    "$$ p(a)=A. $$\n",
    "The term \n",
    "$$p\\sin(2\\pi t)$$ models a year oscilation due to seasonal birth.\n",
    "\n",
    "As the equation is non-linear we must numerically approximate the solution.\n",
    "In this simulation we set the parameters of the different equations:\n",
    "*  as $\\alpha_{Birth}=0.3$ and $\\alpha_{Death}=0.01$, with the inital condition $p(0)=3$, over the time period $0\\leq t \\leq 30$."
   ]
  },
  {
   "cell_type": "code",
   "execution_count": 2,
   "metadata": {
    "id": "5K2UXOoiWmMx"
   },
   "outputs": [],
   "source": [
    "alpha_Birth=0.3\n",
    "alpha_Death=0.01"
   ]
  },
  {
   "cell_type": "markdown",
   "metadata": {
    "id": "57sqn2jdWmMx"
   },
   "source": [
    "## Discrete Domain \n",
    "To numerically approximate the solution we discretise the continuous domain using a step size, \n",
    "$$h=\\frac{b-a}{N}=\\frac{30-0}{1000}=0.1,$$\n",
    "which gives\n",
    "\\begin{equation}\n",
    "t_i=0+i h,\n",
    "\\end{equation}\n",
    "for $i=0,...1000$.\n",
    "The figure below illustrate the discrete domain."
   ]
  },
  {
   "cell_type": "code",
   "execution_count": 3,
   "metadata": {
    "colab": {
     "base_uri": "https://localhost:8080/",
     "height": 295
    },
    "id": "L7bApxUHWmMy",
    "outputId": "1cb84604-70fe-47b8-e3dd-c39101089204"
   },
   "outputs": [
    {
     "data": {
      "image/png": "[encoded data removed]",
      "text/plain": [
       "<Figure size 360x288 with 1 Axes>"
      ]
     },
     "metadata": {
      "image/png": {
       "height": 270,
       "width": 342
      },
      "needs_background": "light"
     },
     "output_type": "display_data"
    }
   ],
   "source": [
    "N=1000\n",
    "b=30\n",
    "a=0\n",
    "\n",
    "h=(b-a)/N\n",
    "t=np.arange(a,b+h/2,h)\n",
    "fig = plt.figure(1,figsize=(5,4))\n",
    "ax = fig.add_subplot(1,1,1)\n",
    "ax.plot(t,0*t,'o:',color='k')\n",
    "ax.set_xlabel('Time (yrs)')\n",
    "plt.title('Discrete Time Domain')\n",
    "plt.show()"
   ]
  },
  {
   "cell_type": "code",
   "execution_count": 4,
   "metadata": {
    "id": "a451IeL9WmMz"
   },
   "outputs": [],
   "source": [
    "P=np.zeros(N+1) # Numerical Solution P\n",
    "P[0]=3\n"
   ]
  },
  {
   "cell_type": "markdown",
   "metadata": {
    "id": "Kr5YDJMqWmMz"
   },
   "source": [
    "We numerically approximate the differential equation using Eulers method to give the difference equation\n",
    "\\begin{equation}\n",
    "\\frac{P_{i+1}-P_i}{h}=\\alpha_{Birth}P_i-\\alpha_{Death}P_i^2+P_i\\sin(2\\pi t_i)\n",
    "\\end{equation}\n",
    "re-arranging\n",
    "\\begin{equation}\n",
    "\\color{red}{P_{i+1}}=P_i+h\\big(\\alpha_{Birth}P_i-\\alpha_{Death}P_i^2+P_i\\sin(2\\pi t_i)\\big)\n",
    "\\end{equation}\n",
    "P[i+1]=P[i]+h*(alpha_Birth*P[i]-                           alpha_Death*P[i]*P[i]+P[i]*np.sin(2*np.math.pi*t[i]))\n",
    "\n",
    "where $h$ is the stepsize and where $P_i$ is the numerical approximation of $p(t_i)$ at time $t_i$, for $i=0,...,1000$\n"
   ]
  },
  {
   "cell_type": "code",
   "execution_count": 15,
   "metadata": {
    "id": "zqqaEoUXWmMz"
   },
   "outputs": [],
   "source": [
    "def Logistic_Pop_Seasonal(alpha_Birth,alpha_Death):\n",
    "    \"\"\"\n",
    "    Args:\n",
    "      alpha_Birth  : Birth Rate\n",
    "      alpha_Death : Death Rate\n",
    "\n",
    "    \"\"\"\n",
    "    N=1000\n",
    "    b=30\n",
    "    a=0\n",
    "\n",
    "    h=(b-a)/N\n",
    "    t=np.arange(a,b+h/2,h)\n",
    "    N=int((b-a)/h) # Number of Steps\n",
    "    P=np.zeros(N+1) # Numerical Solution P\n",
    "    P[0]=3\n",
    "\n",
    "\n",
    "    for i in range (0,N):\n",
    "        P[i+1]=P[i]+h*(alpha_Birth*P[i]-alpha_Death*P[i]*P[i]+P[i]*np.sin(2*np.math.pi*t[i]))\n",
    "                           \n",
    "    ## Plotting Figure\n",
    "    fig = plt.figure(1,figsize=(12,6))\n",
    "\n",
    "    ax = fig.add_subplot(1,1,1)\n",
    "\n",
    "    ax.plot(t,P,':',color='grey',label='Population')\n",
    "\n",
    "    ax.legend()\n",
    "\n",
    "    ax.set_xlabel('Time (yrs)')\n",
    "    ax.set_ylabel('Population (billions)')\n",
    "    ax.set_title('Numerical Solution, P')\n",
    "    plt.tight_layout()\n",
    "    plt.subplots_adjust(top=0.85)\n",
    "    plt.show()\n"
   ]
  },
  {
   "cell_type": "markdown",
   "metadata": {
    "id": "HtnBIB1hWmM0"
   },
   "source": [
    "## Results\n",
    "The plot bellow shows the Numerical solution $P_i$ of the Logistic Population with oscilation as a function of time $t$."
   ]
  },
  {
   "cell_type": "code",
   "execution_count": 16,
   "metadata": {
    "colab": {
     "base_uri": "https://localhost:8080/",
     "height": 230
    },
    "id": "WJ68UFezWmM0",
    "outputId": "5ecee805-7dcf-4c6c-cf75-47389a303897"
   },
   "outputs": [
    {
     "data": {
      "application/vnd.jupyter.widget-view+json": {
       "model_id": "b9e4f31cf23f41d9b07347eb0465d5c7",
       "version_major": 2,
       "version_minor": 0
      },
      "text/plain": [
       "interactive(children=(FloatSlider(value=0.3, description='alpha_B', layout=Layout(width='450px'), max=1.0, ste…"
      ]
     },
     "metadata": {},
     "output_type": "display_data"
    }
   ],
   "source": [
    "my_layout.width = '450px'\n",
    "@widgets.interact(\n",
    "    alpha_B=widgets.FloatSlider(.3, min=0., max=1., step=.01, layout=my_layout),\n",
    "    alpha_D=widgets.FloatSlider(.01, min=0.00, max=0.5, step=.01, layout=my_layout)\n",
    ")\n",
    "def Pop_widget(alpha_B,alpha_D):\n",
    "  Logistic_Pop_Seasonal(alpha_Birth=alpha_B,alpha_Death=alpha_D)\n",
    "  plt.show()"
   ]
  },
  {
   "cell_type": "markdown",
   "metadata": {
    "id": "GRp--hikWmM0"
   },
   "source": [
    "# References\n",
    "\n",
    "[1] Stover, Christopher and Weisstein, Eric W. \"Population Growth.\" From MathWorld--A Wolfram Web Resource. http://mathworld.wolfram.com/PopulationGrowth.html"
   ]
  },
  {
   "cell_type": "code",
   "execution_count": null,
   "metadata": {
    "id": "fGTDUpqUWmM0"
   },
   "outputs": [],
   "source": []
  }
 ],
 "metadata": {
  "colab": {
   "include_colab_link": true,
   "name": "05_Logistic Growth with Seasonal.ipynb",
   "provenance": []
  },
  "kernelspec": {
   "display_name": "Python 3 (ipykernel)",
   "language": "python",
   "name": "python3"
  },
  "language_info": {
   "codemirror_mode": {
    "name": "ipython",
    "version": 3
   },
   "file_extension": ".py",
   "mimetype": "text/x-python",
   "name": "python",
   "nbconvert_exporter": "python",
   "pygments_lexer": "ipython3",
   "version": "3.8.12"
  }
 },
 "nbformat": 4,
 "nbformat_minor": 1
}
