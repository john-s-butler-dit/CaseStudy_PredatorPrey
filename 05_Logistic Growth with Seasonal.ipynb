{
  "nbformat": 4,
  "nbformat_minor": 0,
  "metadata": {
    "kernelspec": {
      "display_name": "Python 3",
      "language": "python",
      "name": "python3"
    },
    "language_info": {
      "codemirror_mode": {
        "name": "ipython",
        "version": 3
      },
      "file_extension": ".py",
      "mimetype": "text/x-python",
      "name": "python",
      "nbconvert_exporter": "python",
      "pygments_lexer": "ipython3",
      "version": "3.8.5"
    },
    "colab": {
      "name": "05_Logistic Growth with Seasonal.ipynb",
      "provenance": [],
      "include_colab_link": true
    }
  },
  "cells": [
    {
      "cell_type": "markdown",
      "metadata": {
        "id": "view-in-github",
        "colab_type": "text"
      },
      "source": [
        "<a href=\"https://colab.research.google.com/github/john-s-butler-dit/CaseStudy_PredatorPrey/blob/master/05_Logistic%20Growth%20with%20Seasonal.ipynb\" target=\"_parent\"><img src=\"https://colab.research.google.com/assets/colab-badge.svg\" alt=\"Open In Colab\"/></a>"
      ]
    },
    {
      "cell_type": "markdown",
      "metadata": {
        "id": "ZrBtAG8iWmMr"
      },
      "source": [
        "## Logistic Population with seasonal birth pattern Differential Equations"
      ]
    },
    {
      "cell_type": "markdown",
      "metadata": {
        "id": "DQDX-SRRWmMw"
      },
      "source": [
        "In this notebook we will numerically simulate a non-linear population growth with an oscilation due to seasonal birth [1]"
      ]
    },
    {
      "cell_type": "code",
      "metadata": {
        "id": "5pyyaHpcWmMw"
      },
      "source": [
        "## Library\n",
        "import numpy as np\n",
        "import math \n",
        "import matplotlib.pyplot as plt"
      ],
      "execution_count": null,
      "outputs": []
    },
    {
      "cell_type": "markdown",
      "metadata": {
        "id": "Gy5pf0CVWmMx"
      },
      "source": [
        "## Logistic Population Equation\n",
        "The logistic growth differential equation is a non-linear first order differential equation\n",
        "\\begin{equation}\n",
        "\\frac{d p}{dt}=\\alpha_{Birth} p-\\alpha_{Death} p^2+p\\sin(2\\pi t)\n",
        "\\end{equation}\n",
        "for $a\\leq t \\leq b$ years, where $\\alpha_{Birth}$ is the birth rate and $\\alpha_{Death}$ is the death rate, with the initial condition\n",
        "$$ p(a)=A. $$\n",
        "The term \n",
        "$$p\\sin(2\\pi t)$$ modules a year oscilation due to seasonal birth.\n",
        "\n",
        "As the equation is non-linear we must numerically approximate the solution.\n",
        "In this simulation we set the parameters of the different equations:\n",
        "*  as $\\alpha_{Birth}=0.3$ and $\\alpha_{Death}=0.01$, with the inital condition $p(0)=3$, over the time period $0\\leq t \\leq 10$."
      ]
    },
    {
      "cell_type": "code",
      "metadata": {
        "id": "5K2UXOoiWmMx"
      },
      "source": [
        "alpha_Birth=0.3\n",
        "alpha_Death=0.01"
      ],
      "execution_count": null,
      "outputs": []
    },
    {
      "cell_type": "markdown",
      "metadata": {
        "id": "57sqn2jdWmMx"
      },
      "source": [
        "## Discrete Domain \n",
        "To numerically approximate the solution we discretise the continuous domain using a step size, $h=1$, \n",
        "which gives\n",
        "\\begin{equation}\n",
        "t_i=0+i h,\n",
        "\\end{equation}\n",
        "for $i=0,...10$.\n",
        "The figure below illustrate the discrete domain."
      ]
    },
    {
      "cell_type": "code",
      "metadata": {
        "colab": {
          "base_uri": "https://localhost:8080/",
          "height": 295
        },
        "id": "L7bApxUHWmMy",
        "outputId": "de481a1f-0ba6-4b3d-f739-bd713fe693c9"
      },
      "source": [
        "h=0.01\n",
        "t_end=30\n",
        "t=np.arange(0,t_end+h/2,h)\n",
        "fig = plt.figure(1,figsize=(5,4))\n",
        "ax = fig.add_subplot(1,1,1)\n",
        "ax.plot(t,0*t,'o:',color='k')\n",
        "ax.set_xlabel('Time (yrs)')\n",
        "plt.title('Discrete Time Domain')\n",
        "plt.show()"
      ],
      "execution_count": null,
      "outputs": [
        {
          "output_type": "display_data",
          "data": {
            "image/png": "[encoded data removed]",
            "text/plain": [
              "<Figure size 360x288 with 1 Axes>"
            ]
          },
          "metadata": {
            "tags": [],
            "needs_background": "light"
          }
        }
      ]
    },
    {
      "cell_type": "code",
      "metadata": {
        "id": "a451IeL9WmMz"
      },
      "source": [
        "N=int(t_end/h) # Number of Steps\n",
        "P=np.zeros(N+1) # Numerical Solution P\n",
        "P[0]=3\n"
      ],
      "execution_count": null,
      "outputs": []
    },
    {
      "cell_type": "markdown",
      "metadata": {
        "id": "Kr5YDJMqWmMz"
      },
      "source": [
        "We numerically approximate the differential equation using Eulers method to give the difference equation\n",
        "\\begin{equation}\n",
        "\\frac{P_{i+1}-P_i}{h}=\\alpha_{Birth}P_i-\\alpha_{Death}P_i^2+P_i\\sin(2\\pi t_i)\n",
        "\\end{equation}\n",
        "re-arranging\n",
        "\\begin{equation}\n",
        "\\color{red}{P_{i+1}}=P_i+h\\big(\\alpha_{Birth}P_i-\\alpha_{Death}P_i^2+P_i\\sin(2\\pi t_i)\\big)\n",
        "\\end{equation}\n",
        "where $h$ is the stepsize and where $P_i$ is the numerical approximation of $p(t_i)$ at time $t_i$, for $i=0,...,10$\n"
      ]
    },
    {
      "cell_type": "code",
      "metadata": {
        "id": "zqqaEoUXWmMz"
      },
      "source": [
        "for i in range (0,N):\n",
        "    P[i+1]=P[i]+h*(alpha_Birth*P[i]-\n",
        "                           alpha_Death*P[i]*P[i]+P[i]*np.sin(2*np.math.pi*t[i]))"
      ],
      "execution_count": null,
      "outputs": []
    },
    {
      "cell_type": "markdown",
      "metadata": {
        "id": "HtnBIB1hWmM0"
      },
      "source": [
        "## Results\n",
        "The plot bellow shows the Numerical solution $P_i$ of the Logistic Population with oscilation as a function of time $t$."
      ]
    },
    {
      "cell_type": "code",
      "metadata": {
        "colab": {
          "base_uri": "https://localhost:8080/",
          "height": 281
        },
        "id": "WJ68UFezWmM0",
        "outputId": "6366e527-26c9-488f-ec0e-81765a1dc1e4"
      },
      "source": [
        "## Plotting Figure\n",
        "fig = plt.figure(1,figsize=(4,4))\n",
        "\n",
        "ax = fig.add_subplot(1,1,1)\n",
        "\n",
        "ax.plot(t,P,':',color='grey',label='Population')\n",
        "\n",
        "ax.legend()\n",
        "\n",
        "ax.set_xlabel('Time (yrs)')\n",
        "ax.set_ylabel('Population (billions)')\n",
        "ax.set_title('Numerical Solution, P')\n",
        "\n",
        "plt.tight_layout()\n",
        "plt.subplots_adjust(top=0.85)\n",
        "plt.show()\n"
      ],
      "execution_count": null,
      "outputs": [
        {
          "output_type": "display_data",
          "data": {
            "image/png": "[encoded data removed]",
            "text/plain": [
              "<Figure size 288x288 with 1 Axes>"
            ]
          },
          "metadata": {
            "tags": [],
            "needs_background": "light"
          }
        }
      ]
    },
    {
      "cell_type": "markdown",
      "metadata": {
        "id": "GRp--hikWmM0"
      },
      "source": [
        "# References\n",
        "\n",
        "[1] Stover, Christopher and Weisstein, Eric W. \"Population Growth.\" From MathWorld--A Wolfram Web Resource. http://mathworld.wolfram.com/PopulationGrowth.html"
      ]
    },
    {
      "cell_type": "code",
      "metadata": {
        "id": "fGTDUpqUWmM0"
      },
      "source": [
        ""
      ],
      "execution_count": null,
      "outputs": []
    }
  ]
}