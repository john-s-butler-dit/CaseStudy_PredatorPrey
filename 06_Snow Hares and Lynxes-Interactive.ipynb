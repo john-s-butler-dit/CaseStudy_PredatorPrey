{
 "cells": [
  {
   "cell_type": "markdown",
   "metadata": {
    "colab_type": "text",
    "id": "view-in-github"
   },
   "source": [
    "<a href=\"https://colab.research.google.com/github/john-s-butler-dit/CaseStudy_PredatorPrey/blob/master/06_Snow%20Hares%20and%20Lynxes.ipynb\" target=\"_parent\"><img src=\"https://colab.research.google.com/assets/colab-badge.svg\" alt=\"Open In Colab\"/></a>"
   ]
  },
  {
   "cell_type": "markdown",
   "metadata": {
    "id": "dSl3L5CBWmv5"
   },
   "source": [
    "# Predator-Prey Population Differential Equations"
   ]
  },
  {
   "cell_type": "markdown",
   "metadata": {
    "id": "kdwg7r4FWmv-"
   },
   "source": [
    "\n",
    "In this notebook we will model the interaction of Lynx and Hare populations [1]."
   ]
  },
  {
   "cell_type": "code",
   "execution_count": 1,
   "metadata": {
    "id": "bFdy8x_TWmv_"
   },
   "outputs": [],
   "source": [
    "## Library\n",
    "import numpy as np\n",
    "import math \n",
    "import matplotlib.pyplot as plt\n",
    "# @title Figure Settings\n",
    "import IPython.display as ipd\n",
    "from matplotlib import gridspec\n",
    "\n",
    "import ipywidgets as widgets  # interactive display\n",
    "%config InlineBackend.figure_format = 'retina'\n",
    "\n",
    "# use NMA plot style\n",
    "plt.style.use(\"https://raw.githubusercontent.com/NeuromatchAcademy/content-creation/main/nma.mplstyle\")\n",
    "my_layout = widgets.Layout()"
   ]
  },
  {
   "cell_type": "markdown",
   "metadata": {
    "id": "Fv2kB8P0WmwA"
   },
   "source": [
    "## Predators and prey\n",
    "The cyclical relationship of Predators and Prey in the wild  means that when there is an abundance of prey, the predators will eat more and their population will increase. On the other hand, if there is a shortage in the number of prey, the number of predators will decrease. One of the of the most famous examples of this was observed by the fur traders  Hudson's Bay Company of Canada. The company collected data about the number of lynx and hare pelts they purchased over a 90 year period. Their data showed the cylical nature of the predator prey relationship.\n",
    "This kind of behaviour has been observed in many pairs of predators and prey from mammals to fish to beyond. "
   ]
  },
  {
   "cell_type": "markdown",
   "metadata": {
    "id": "MlEIJ72vWmwA"
   },
   "source": [
    "## Snow Hares and Lynxes\n",
    "In a balanced eco system the relationship between snow hares (prey) and lynxes (predator) can be described mathematically using a Loketta-Volterra model [1-3]\n",
    "\\begin{equation}\n",
    "\\begin{array}{cl}\n",
    "\\frac{d H}{dt}=a_{Birth} H-b_{Con}LH,\\\\\n",
    "\\frac{d L}{dt}=-c_{Death}L+d_{Food} L H,\\\\\n",
    "\\end{array}\n",
    "\\end{equation}\n",
    "this set of equations models the interaction between snow hares (H) and lynxes (L). The lynes are the predators who eat the snow hares to survive. Where there parameters \n",
    "* $a_{Birth}$ is the birth rate of the snow hares;\n",
    "* $b_{Con}$ is the consumation rate of snow hares by lynxes (interaction);\n",
    "* $c_{Death}$ is the death rate of lynxes if there is no food source;\n",
    "* $d_{Food}$ is the rate that lynxes eat the snow hares to survive (interaction).\n"
   ]
  },
  {
   "cell_type": "code",
   "execution_count": null,
   "metadata": {
    "id": "hLmJcxgOWmwA"
   },
   "outputs": [],
   "source": []
  },
  {
   "cell_type": "markdown",
   "metadata": {
    "id": "2yALKnymWmwA"
   },
   "source": [
    "## Discrete Domain \n",
    "To numiercally approximate the solution we discretise the continuous domain using a step size, $h=1$, \n",
    "which gives\n",
    "\\begin{equation}\n",
    "t_i=0+i h,\n",
    "\\end{equation}\n",
    "for $i=0,...10$.\n",
    "The figure below illustrate the discrete domain."
   ]
  },
  {
   "cell_type": "code",
   "execution_count": 2,
   "metadata": {
    "colab": {
     "base_uri": "https://localhost:8080/",
     "height": 295
    },
    "id": "wjzZ8GRVWmwB",
    "outputId": "8f235171-9282-40ea-c392-5048710e8a13"
   },
   "outputs": [
    {
     "data": {
      "image/png": "[encoded data removed]",
      "text/plain": [
       "<Figure size 360x288 with 1 Axes>"
      ]
     },
     "metadata": {
      "image/png": {
       "height": 270,
       "width": 341
      },
      "needs_background": "light"
     },
     "output_type": "display_data"
    }
   ],
   "source": [
    "h=0.001\n",
    "t=np.arange(1850,1925+h/2,h)\n",
    "fig = plt.figure(1,figsize=(5,4))\n",
    "ax = fig.add_subplot(1,1,1)\n",
    "ax.plot(t,0*t,'o:',color='k')\n",
    "ax.set_xlabel('Time (yrs)')\n",
    "plt.title('Discrete Time Domain')\n",
    "plt.show()"
   ]
  },
  {
   "cell_type": "code",
   "execution_count": null,
   "metadata": {
    "id": "AZxeC7mYWmwD"
   },
   "outputs": [],
   "source": []
  },
  {
   "cell_type": "markdown",
   "metadata": {
    "id": "a0LVWnYcWmwD"
   },
   "source": [
    "We numerically approximate the differential equation using Eulers method to give the difference equation\n",
    "\\begin{equation}\n",
    "H[i+1] = H[i]+ h*\\big(a_{Birth}*H[i]-b_{Con}*H[i]*L[i] \\big)\n",
    "\\end{equation}\n",
    "\n",
    "\\begin{equation}\n",
    "L[i+1] = L[i]+ h*\\big(-c_{Death}*H[i]+d_{Food}*H[i]*L[i] \\big)\n",
    "\\end{equation}\n",
    "where $h$ is the stepsize and  $H[i]$ and $L[i]$ is the numerical approximation of the hare $H(t_i)$ and Lynx $L(t_i)$ at time $t_i$, for $i=0,...,N$\n"
   ]
  },
  {
   "cell_type": "code",
   "execution_count": 3,
   "metadata": {
    "id": "idDCTRpuWmwD"
   },
   "outputs": [],
   "source": [
    "def Lynx_Hare(a_Birth,b_Con,c_Death,d_Food):\n",
    "    \"\"\"\n",
    "    Args:\n",
    "    a_Birth=0.4\n",
    "    b_Con=0.1\n",
    "    c_Death=0.09\n",
    "    d_Food=0.01\n",
    "    \"\"\"\n",
    "    h=0.01\n",
    "    t=np.arange(1850,1925+h/2,h)\n",
    "\n",
    "    N=len(t) # Number of Steps\n",
    "    H=np.zeros(N) # Numerical Solution Hares\n",
    "    H[0]=6 # Intial Hare population\n",
    "    L=np.zeros(N) # Numerical Solution Lynxes\n",
    "    L[0]=2# Initial Lynx population\n",
    "\n",
    "\n",
    "    for i in range (0,N-1):\n",
    "        H[i+1]=H[i]+h*(a_Birth*H[i]-b_Con*H[i]*L[i])# INSERT EQUATION HERE \n",
    "        L[i+1]=L[i]+h*(-c_Death*L[i]+d_Food*H[i]*L[i])# INSERT EQUATION HERE \n",
    "\n",
    "    ## Plotting Figure\n",
    "    fig, [ax1, ax2] =plt.subplots(1,2,figsize=(16,4), gridspec_kw={'width_ratios': [2, 1]})\n",
    "\n",
    "\n",
    "    ax1.plot(t,H,':',color='green',label='Hares')\n",
    "    ax1.plot(t,L,':',color='red',label='Lynxes')\n",
    "\n",
    "    ax1.legend()\n",
    "    ax1.set_xlabel('Time (yrs)')\n",
    "    ax1.set_ylabel('Population (tens of thousands)')\n",
    "    #ax.legend(loc='best')\n",
    " \n",
    "    ax2.plot(H,L,'-',color='black')\n",
    "\n",
    "    ax2.set_ylabel('Lynx population (tens of thousands)')\n",
    "    ax2.set_xlabel('Hare Population (tens of thousands)')\n",
    "    #ax.legend(loc='best')\n",
    "    ax2.set_ylim(0.9*np.min(L),1.1*np.max(L))\n",
    "    ax2.set_xlim(0.9*np.min(H),1.1*np.max(H))\n",
    "\n",
    "    plt.tight_layout()\n",
    "    plt.subplots_adjust(top=0.85)\n",
    "    plt.show()"
   ]
  },
  {
   "cell_type": "markdown",
   "metadata": {
    "id": "RNO2SdzJWmwE"
   },
   "source": [
    "## Results\n",
    "The figure below plots the numerical approximation of the Hare population (green) and the Lynx poulation (red) as a function of time in years between 1850 and 1925.\n",
    "The figure illustrates the oscilatory nature of the Hare and Lynx populations.\n",
    "The hare population fluctuates from close to 0 to 800 ten of thousands.\n",
    "The lynx population fluctuates from close to 0 to 120 ten of thousands.\n",
    "The peak hare population preceeds the lynx population by about half a year.\n",
    "There is a gradual increase of peak populations over time.\n",
    "The model is similar to the observed data by the Hudson Bay Company.\n"
   ]
  },
  {
   "cell_type": "markdown",
   "metadata": {
    "id": "yrGsICoFWmwE"
   },
   "source": [
    "## Phase Plane Plot\n",
    "The phase plane plot below illustrates the population of Hares as a function of Lynxes. This removes time from out plot.\n",
    "The rate of change of hares as function of the rate of lynxes is written as\n",
    "\\begin{equation}\n",
    "\\frac{d H}{dL}=\\frac{a_{Birth} H-b_{Con}LH}{-c_{Death}L+d_{Food} L H}.\n",
    "\\end{equation}\n",
    "\n",
    "The plot below shows a stable cyclical relationship between hares and lynxes.\n",
    "It looks a bit like an orbit of a moon."
   ]
  },
  {
   "cell_type": "code",
   "execution_count": 4,
   "metadata": {
    "colab": {
     "base_uri": "https://localhost:8080/",
     "height": 369
    },
    "id": "k0j25RteWmwE",
    "outputId": "737c7d1b-b39d-489d-97df-ae1ad077e559"
   },
   "outputs": [
    {
     "data": {
      "application/vnd.jupyter.widget-view+json": {
       "model_id": "7bcb90bc946d4cc4a0b20066bea6eefa",
       "version_major": 2,
       "version_minor": 0
      },
      "text/plain": [
       "interactive(children=(FloatSlider(value=0.4, description='a_Birth', layout=Layout(width='450px'), max=1.0, ste…"
      ]
     },
     "metadata": {},
     "output_type": "display_data"
    }
   ],
   "source": [
    "my_layout.width = '450px'\n",
    "@widgets.interact(\n",
    "    a_Birth=widgets.FloatSlider(0.4, min=0., max=1., step=.01, layout=my_layout),\n",
    "    b_Con=widgets.FloatSlider(0.1, min=0.00, max=0.5, step=.01, layout=my_layout),\n",
    "    c_Death=widgets.FloatSlider(0.09, min=0., max=0.1, step=.001, layout=my_layout),\n",
    "    d_Food=widgets.FloatSlider(.01, min=0.00, max=0.5, step=.01, layout=my_layout)\n",
    "\n",
    ")\n",
    "def Pop_widget(a_Birth,b_Con,c_Death,d_Food):\n",
    "  Lynx_Hare(a_Birth=a_Birth,b_Con=b_Con,c_Death=c_Death,d_Food=d_Food)\n",
    "  plt.show()"
   ]
  },
  {
   "cell_type": "markdown",
   "metadata": {
    "id": "i0ck25p0WmwF"
   },
   "source": [
    "# References\n",
    "\n",
    "[1] Stover, Christopher and Weisstein, Eric W. \"Population Growth.\" From MathWorld--A Wolfram Web Resource. http://mathworld.wolfram.com/PopulationGrowth.html\n",
    "\n",
    "[2]  Vito Volterra.  Fluctuations in the abundance of a species considered mathematically. Nature,118:558–560,1926.\n",
    "\n",
    "[3] Alfred J Lotka.   Analytical note on certain rhythmic  relations inorganic  systems.Proceedings of the National Academy of Sciences,6(7):410–415,1920."
   ]
  }
 ],
 "metadata": {
  "colab": {
   "include_colab_link": true,
   "name": "06_Snow Hares and Lynxes.ipynb",
   "provenance": []
  },
  "kernelspec": {
   "display_name": "Python 3 (ipykernel)",
   "language": "python",
   "name": "python3"
  },
  "language_info": {
   "codemirror_mode": {
    "name": "ipython",
    "version": 3
   },
   "file_extension": ".py",
   "mimetype": "text/x-python",
   "name": "python",
   "nbconvert_exporter": "python",
   "pygments_lexer": "ipython3",
   "version": "3.8.12"
  }
 },
 "nbformat": 4,
 "nbformat_minor": 1
}
