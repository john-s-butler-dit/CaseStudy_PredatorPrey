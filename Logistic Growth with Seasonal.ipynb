{
 "cells": [
  {
   "cell_type": "markdown",
   "metadata": {},
   "source": [
    "## Logisitic Population with seasonal birth pattern Differential Equations"
   ]
  },
  {
   "cell_type": "markdown",
   "metadata": {},
   "source": [
    "\n",
    "In this notebook we will a simple population equation [1]"
   ]
  },
  {
   "cell_type": "code",
   "execution_count": 1,
   "metadata": {},
   "outputs": [],
   "source": [
    "## Library\n",
    "import numpy as np\n",
    "import math \n",
    "import matplotlib.pyplot as plt"
   ]
  },
  {
   "cell_type": "markdown",
   "metadata": {},
   "source": [
    "## Logistic Population Equation\n",
    "The logistic growth differential equation is a non-linear first order differential equation\n",
    "\\begin{equation}\n",
    "\\frac{d p}{dt}=\\alpha_{Birth} p-\\alpha_{Death} p^2+A\\sin(2\\pi t)\n",
    "\\end{equation}\n",
    "\\begin{equation}\n",
    "\\frac{d p}{dt}=\\alpha_{Birth} p-\\alpha_{Death} p^2+Ap\\sin(2\\pi t)\n",
    "\\end{equation}\n",
    "for $a\\leq t \\leq b$ years, where $\\alpha_{Birth}$ is the birth rate and $\\alpha_{Death}$ is the death rate, with the initial condition\n",
    "$$ p(a)=A. $$\n",
    "As the equation is non-linear we must numverically approximate the solution.\n",
    "In this simulation we set the parameters of the different equations:\n",
    "*  as $\\alpha_{Birth}=0.3$ and $\\alpha_{Death}=0.01$, with the inital condition $p(0)=3$, over the time period $0\\leq t \\leq 10$."
   ]
  },
  {
   "cell_type": "code",
   "execution_count": 9,
   "metadata": {},
   "outputs": [],
   "source": [
    "alpha_Birth=0.3\n",
    "alpha_Death=0.01"
   ]
  },
  {
   "cell_type": "markdown",
   "metadata": {},
   "source": [
    "## Discrete Domain \n",
    "To numerically approximate the solution we discretise the continuous domain using a step size, $h=1$, \n",
    "which gives\n",
    "\\begin{equation}\n",
    "t_i=0+i h,\n",
    "\\end{equation}\n",
    "for $i=0,...10$.\n",
    "The figure below illustrate the discrete domain."
   ]
  },
  {
   "cell_type": "code",
   "execution_count": 14,
   "metadata": {},
   "outputs": [
    {
     "data": {
      "image/png": "[encoded data removed]",
      "text/plain": [
       "<Figure size 360x288 with 1 Axes>"
      ]
     },
     "metadata": {
      "needs_background": "light"
     },
     "output_type": "display_data"
    }
   ],
   "source": [
    "h=0.01\n",
    "t_end=30\n",
    "t=np.arange(0,t_end+h/2,h)\n",
    "fig = plt.figure(1,figsize=(5,4))\n",
    "ax = fig.add_subplot(1,1,1)\n",
    "ax.plot(t,0*t,'o:',color='k')\n",
    "ax.set_xlabel('Time (yrs)')\n",
    "plt.title('Discrete Time Domain')\n",
    "plt.show()"
   ]
  },
  {
   "cell_type": "code",
   "execution_count": 24,
   "metadata": {},
   "outputs": [],
   "source": [
    "N=int(t_end/h) # Number of Steps\n",
    "P=np.zeros(N+1) # Numerical Solution P\n",
    "P[0]=3\n",
    "P_int=np.zeros(N+1) # Numerical Solution P\n",
    "P_int[0]=3\n",
    "\n"
   ]
  },
  {
   "cell_type": "markdown",
   "metadata": {},
   "source": [
    "We numerically approximate the differential equation using Eulers method to give the difference equation\n",
    "\\begin{equation}\n",
    "\\frac{P_{i+1}-P_i}{h}=\\alpha_{Birth}P_i-\\alpha_{Death}P_i^2+\\sin(2\\pi t_i)\n",
    "\\end{equation}\n",
    "re-arranging\n",
    "\\begin{equation}\n",
    "\\color{red}{P_{i+1}}=P_i+h\\big(\\alpha_{Birth}P_i-\\alpha_{Death}P_i^2+\\sin(2\\pi t_i)\\big)\n",
    "\\end{equation}\n",
    "\\begin{equation}\n",
    "\\color{red}{Pint_{i+1}}=Pint_i+h\\big(\\alpha_{Birth}Pint_i-\\alpha_{Death}Pint_i^2+APint_i\\sin(2\\pi t_i)\\big)\n",
    "\\end{equation}\n",
    "where $h$ is the stepsize and where $P_i$ is the numerical approximation of $p(t_i)$ at time $t_i$, for $i=0,...,10$\n"
   ]
  },
  {
   "cell_type": "code",
   "execution_count": 25,
   "metadata": {},
   "outputs": [],
   "source": [
    "for i in range (0,N):\n",
    "    P[i+1]=P[i]+h*(alpha_Birth*P[i]-alpha_Death*P[i]*P[i]+np.sin(2*np.math.pi*t[i]))\n",
    "    P_int[i+1]=P_int[i]+h*(alpha_Birth*P_int[i]-\n",
    "                           alpha_Death*P_int[i]*P_int[i]+P_int[i]*np.sin(2*np.math.pi*t[i]))\n",
    "\n",
    "\n"
   ]
  },
  {
   "cell_type": "markdown",
   "metadata": {},
   "source": [
    "## Results\n",
    "The plot bellow shows the Numerical solution $P_i$ of the Logistic Population as a function of time $t$."
   ]
  },
  {
   "cell_type": "code",
   "execution_count": 29,
   "metadata": {},
   "outputs": [
    {
     "data": {
      "image/png": "[encoded data removed]",
      "text/plain": [
       "<Figure size 288x288 with 1 Axes>"
      ]
     },
     "metadata": {
      "needs_background": "light"
     },
     "output_type": "display_data"
    }
   ],
   "source": [
    "## Plotting Figure\n",
    "fig = plt.figure(1,figsize=(4,4))\n",
    "\n",
    "ax = fig.add_subplot(1,1,1)\n",
    "\n",
    "ax.plot(t,P,'.:',color='red',label='Population')\n",
    "ax.plot(t,P_int,'.:',color='grey',label='Population with seasonal interaction')\n",
    "\n",
    "ax.legend()\n",
    "\n",
    "ax.set_xlabel('Time (yrs)')\n",
    "ax.set_ylabel('Population (billions)')\n",
    "ax.set_title('Numerical Solution, P')\n",
    "\n",
    "\n",
    "\n",
    "plt.tight_layout()\n",
    "plt.subplots_adjust(top=0.85)\n",
    "plt.show()\n"
   ]
  },
  {
   "cell_type": "markdown",
   "metadata": {},
   "source": [
    "# References\n",
    "\n",
    "[1] Stover, Christopher and Weisstein, Eric W. \"Population Growth.\" From MathWorld--A Wolfram Web Resource. http://mathworld.wolfram.com/PopulationGrowth.html"
   ]
  },
  {
   "cell_type": "code",
   "execution_count": null,
   "metadata": {},
   "outputs": [],
   "source": []
  }
 ],
 "metadata": {
  "kernelspec": {
   "display_name": "Python 3",
   "language": "python",
   "name": "python3"
  },
  "language_info": {
   "codemirror_mode": {
    "name": "ipython",
    "version": 3
   },
   "file_extension": ".py",
   "mimetype": "text/x-python",
   "name": "python",
   "nbconvert_exporter": "python",
   "pygments_lexer": "ipython3",
   "version": "3.7.3"
  }
 },
 "nbformat": 4,
 "nbformat_minor": 2
}
