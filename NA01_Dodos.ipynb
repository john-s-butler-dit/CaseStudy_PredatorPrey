{
  "nbformat": 4,
  "nbformat_minor": 0,
  "metadata": {
    "kernelspec": {
      "display_name": "Python 3",
      "language": "python",
      "name": "python3"
    },
    "language_info": {
      "codemirror_mode": {
        "name": "ipython",
        "version": 3
      },
      "file_extension": ".py",
      "mimetype": "text/x-python",
      "name": "python",
      "nbconvert_exporter": "python",
      "pygments_lexer": "ipython3",
      "version": "3.8.5"
    },
    "colab": {
      "name": "NA01_Dodos.ipynb",
      "provenance": [],
      "include_colab_link": true
    }
  },
  "cells": [
    {
      "cell_type": "markdown",
      "metadata": {
        "id": "view-in-github",
        "colab_type": "text"
      },
      "source": [
        "<a href=\"https://colab.research.google.com/github/john-s-butler-dit/CaseStudy_PredatorPrey/blob/master/NA01_Dodos.ipynb\" target=\"_parent\"><img src=\"https://colab.research.google.com/assets/colab-badge.svg\" alt=\"Open In Colab\"/></a>"
      ]
    },
    {
      "cell_type": "markdown",
      "metadata": {
        "id": "DV7fDlGxWoTm"
      },
      "source": [
        "# Numerical Assignment 1 Dodos\n",
        "\n",
        "Name and Student ID:"
      ]
    },
    {
      "cell_type": "markdown",
      "metadata": {
        "id": "zSk_lK9vWoTr"
      },
      "source": [
        "Adapt the python code to model the initial value problem, which describes the Dodo population (p) in the 17th century the year (t=0) that the Dodo are exposed to man and subsequent interactions modeled by the over 10 years using a stepsize of h=0.1.\n",
        "To learn more about the dodo look here [2]."
      ]
    },
    {
      "cell_type": "code",
      "metadata": {
        "id": "R2ETLv-mWoTr"
      },
      "source": [
        "## Library\n",
        "import numpy as np\n",
        "import matplotlib.pyplot as plt"
      ],
      "execution_count": 1,
      "outputs": []
    },
    {
      "cell_type": "markdown",
      "metadata": {
        "id": "2q6wswcbWoTs"
      },
      "source": [
        "## Dodo Population Equation before man\n",
        "The Dodo population prior to being found by man is described by the non-linear, \n",
        "\\begin{equation}\n",
        "\\frac{d p}{dt}=\\alpha_{Birth} p-\\alpha_{Death}p^2,\n",
        "\\end{equation}\n",
        "where $p$ is the population at time $t$,\n",
        "for $a\\leq t \\leq b$ years, where  $\\alpha_{Birth}$ is the birth rate and $\\alpha_{Death}$ is the death rate, with the initial condition\n",
        "$$ p(a)=A. $$\n",
        "TIn this simulation we set the parameters of the different equations:\n",
        "*  as $\\alpha_{Birth}=0.3$, and $\\alpha_{Death}=0.01$ with the inital condition $p(0)=30$, over the time period $0\\leq t \\leq 10$."
      ]
    },
    {
      "cell_type": "code",
      "metadata": {
        "id": "aRMI-CG1WoTs"
      },
      "source": [
        "alpha_birth=0.3\n",
        "alpha_death=0.01"
      ],
      "execution_count": 2,
      "outputs": []
    },
    {
      "cell_type": "markdown",
      "metadata": {
        "id": "BtRQ0x_mWoTs"
      },
      "source": [
        "## Discrete Time Domain\n",
        "To numerically approximate the solution we discretise the continuous domain using a step size, $h=0.1$, \n",
        "which gives\n",
        "\\begin{equation}\n",
        "t_i=0+i h,\n",
        "\\end{equation}\n",
        "for $i=0,...10$.\n",
        "\n",
        "The Figure below illustrate the discrete domain."
      ]
    },
    {
      "cell_type": "code",
      "metadata": {
        "colab": {
          "base_uri": "https://localhost:8080/",
          "height": 295
        },
        "id": "FvP1MUFFWoTt",
        "outputId": "798088f7-f599-4a0c-d0fe-e88856f66eb6"
      },
      "source": [
        "h=0.1\n",
        "t_end=10\n",
        "t=np.arange(0,t_end+h/2,h)\n",
        "fig = plt.figure(1,figsize=(14,4))\n",
        "ax = fig.add_subplot(1,1,1)\n",
        "ax.plot(t,0*t,'o:',color='k')\n",
        "ax.set_xlabel('Time (yrs)')\n",
        "plt.title('Discrete Time')\n",
        "plt.show()"
      ],
      "execution_count": 3,
      "outputs": [
        {
          "output_type": "display_data",
          "data": {
            "image/png": "[encoded data removed]",
            "text/plain": [
              "<Figure size 1008x288 with 1 Axes>"
            ]
          },
          "metadata": {
            "tags": [],
            "needs_background": "light"
          }
        }
      ]
    },
    {
      "cell_type": "code",
      "metadata": {
        "id": "96bMXPF_WoTu"
      },
      "source": [
        "N=int(t_end/h) # Number of Steps\n",
        "P=np.zeros(N+1) # Numerical Solution P\n",
        "P[0]=30"
      ],
      "execution_count": 4,
      "outputs": []
    },
    {
      "cell_type": "markdown",
      "metadata": {
        "id": "hRi5vrn5WoTu"
      },
      "source": [
        "We numerically approximate the differential equation using Eulers method to give the difference equation\n",
        "\\begin{equation}\n",
        "P_{i}=P_{i-1}+h \\big(\\alpha_{Birth} P_{i-1}-\\alpha_{Death}P_{i-1}^2 \\big),\n",
        "\\end{equation}\n",
        "where $h$ is the stepsize and where $P_i$ is the numerical approximation of $p(t_i)$ at distance $t_i$, for $i=0,...,10.$\n"
      ]
    },
    {
      "cell_type": "code",
      "metadata": {
        "id": "Dey6FlcXWoTv"
      },
      "source": [
        "for i in range (1,N+1):\n",
        "    P[i]=P[i-1]+h*(alpha_birth*P[i-1]-alpha_death*P[i-1]*P[i-1])\n",
        "\n"
      ],
      "execution_count": 5,
      "outputs": []
    },
    {
      "cell_type": "markdown",
      "metadata": {
        "id": "dvbG7skkWoTv"
      },
      "source": [
        "## Results\n",
        "The plot below shows the numerical solution $P_i$ for the Dodo population as a function of time $t$."
      ]
    },
    {
      "cell_type": "code",
      "metadata": {
        "colab": {
          "base_uri": "https://localhost:8080/",
          "height": 295
        },
        "id": "k7xn-jxDWoTv",
        "outputId": "870f6f11-e1c7-4155-cb26-fe4c1d352fa1"
      },
      "source": [
        "## Plotting Figure\n",
        "fig = plt.figure(figsize=(14,4))\n",
        "plt.plot(t,P,'o:',color='red',label='Population')\n",
        "plt.legend()\n",
        "plt.xlabel('Time (yrs)')\n",
        "plt.ylabel('Population (thousands)')\n",
        "#ax.legend(loc='best')\n",
        "plt.title('Dodo Population, P')\n",
        "plt.show()"
      ],
      "execution_count": 6,
      "outputs": [
        {
          "output_type": "display_data",
          "data": {
            "image/png": "[encoded data removed]",
            "text/plain": [
              "<Figure size 1008x288 with 1 Axes>"
            ]
          },
          "metadata": {
            "tags": [],
            "needs_background": "light"
          }
        }
      ]
    },
    {
      "cell_type": "markdown",
      "metadata": {
        "id": "jaElZK2wWoTv"
      },
      "source": [
        "## Dodo Population Equation after man\n",
        "The Dodo population prior to being found by man is described by the non-linear, \n",
        "\\begin{equation}\n",
        "\\frac{d p}{dt}=\\alpha_{Birth} p-\\alpha_{Death}p^2-p(e^{0.1t}-1),\n",
        "\\end{equation}\n",
        "where $p$ is the population at time $t$,\n",
        "for $a\\leq t \\leq b$ years, where  $\\alpha_{Birth}$ is the birth rate and $\\alpha_{Death}$ is the death rate, with the initial condition\n",
        "$$ p(a)=A. $$\n",
        "The introduction of humans to the island is simulated with the inclusion of the terms\n",
        "$$-p(e^{0.1t}-1).$$\n",
        "\n",
        "Like above the parameters are set:\n",
        "*  as $\\alpha_{Birth}=0.3$, and $\\alpha_{Death}=0.01$ with the inital condition $p(0)=30$, over the time period $0\\leq t \\leq 10$."
      ]
    },
    {
      "cell_type": "markdown",
      "metadata": {
        "id": "UQ_Mg369WoTw"
      },
      "source": [
        "## Problem 1\n",
        "Adapt the text in blue and the code below to model the impact of humans on the Dodo population.\n",
        "\n",
        "We numerically approximate the differential equation using Eulers method to give the difference equation\n",
        "\\begin{equation}\n",
        "P_{i}=P_{i-1}+h \\big(\\alpha_{Birth} P_{i-1}-\\alpha_{Death}P_{i-1}^2 \\ \\color{blue}{HUMANS} \\big),\n",
        "\\end{equation}\n",
        "where $h$ is the stepsize and where $P_i$ is the numerical approximation of $p(t_i)$ at distance $t_i$, for $i=0,...,10.$"
      ]
    },
    {
      "cell_type": "code",
      "metadata": {
        "id": "nGUnLfZPWoTx"
      },
      "source": [
        "for i in range (1,N+1):\n",
        "    ### UPDATED DIFFERENCE FOR DODOS TO INCLUDE HUMANS\n",
        "    P[i]=P[i-1]+h*(alpha_birth*P[i-1]-alpha_death*P[i-1]*P[i-1])\n",
        "    ###"
      ],
      "execution_count": 9,
      "outputs": []
    },
    {
      "cell_type": "code",
      "metadata": {
        "colab": {
          "base_uri": "https://localhost:8080/",
          "height": 295
        },
        "id": "HUmhx3UWWoTx",
        "outputId": "04f17874-19eb-4181-af74-5312789b5b82"
      },
      "source": [
        "## Plotting Figure\n",
        "fig = plt.figure(figsize=(14,4))\n",
        "plt.plot(t,P,'o:',color='red',label='Population')\n",
        "plt.legend()\n",
        "plt.xlabel('Time (yrs)')\n",
        "plt.ylabel('Population (thousands)')\n",
        "#ax.legend(loc='best')\n",
        "plt.title('Dodo Population, P')\n",
        "plt.show()"
      ],
      "execution_count": 10,
      "outputs": [
        {
          "output_type": "display_data",
          "data": {
            "image/png": "[encoded data removed]",
            "text/plain": [
              "<Figure size 1008x288 with 1 Axes>"
            ]
          },
          "metadata": {
            "tags": [],
            "needs_background": "light"
          }
        }
      ]
    },
    {
      "cell_type": "markdown",
      "metadata": {
        "id": "jAh9Gkp2WoTy"
      },
      "source": [
        "## Problem 2. \n",
        "\n",
        "Write a brief description of what the solution of the model tells you about the population of Dodos.\n"
      ]
    },
    {
      "cell_type": "markdown",
      "metadata": {
        "id": "JETpiXdxWoTy"
      },
      "source": [
        "# References\n",
        "\n",
        "[1] Stover, Christopher and Weisstein, Eric W. \"Population Growth.\" From MathWorld--A Wolfram Web Resource. http://mathworld.wolfram.com/PopulationGrowth.html\n",
        "[2] Wikipedia contributors. (2021, January 13). Dodo. In Wikipedia, The Free Encyclopedia. Retrieved 15:19, February 22, 2021, from https://en.wikipedia.org/w/index.php?title=Dodo&oldid=1000163941"
      ]
    },
    {
      "cell_type": "code",
      "metadata": {
        "id": "_uARRxUrZ7jW"
      },
      "source": [
        ""
      ],
      "execution_count": null,
      "outputs": []
    }
  ]
}