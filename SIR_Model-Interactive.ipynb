{
 "cells": [
  {
   "cell_type": "markdown",
   "metadata": {
    "id": "dSl3L5CBWmv5"
   },
   "source": [
    "# SIR Differential Equations"
   ]
  },
  {
   "cell_type": "markdown",
   "metadata": {
    "id": "kdwg7r4FWmv-"
   },
   "source": [
    "\n",
    "In this notebook we will model the spread of disease using the Kermack-McKendrick Model model which is a compartment model."
   ]
  },
  {
   "cell_type": "code",
   "execution_count": 1,
   "metadata": {
    "id": "bFdy8x_TWmv_"
   },
   "outputs": [],
   "source": [
    "## Library\n",
    "import numpy as np\n",
    "import math \n",
    "import matplotlib.pyplot as plt\n",
    "# @title Figure Settings\n",
    "import IPython.display as ipd\n",
    "from matplotlib import gridspec\n",
    "\n",
    "import ipywidgets as widgets  # interactive display\n",
    "%config InlineBackend.figure_format = 'retina'\n",
    "\n",
    "# use NMA plot style\n",
    "plt.style.use(\"https://raw.githubusercontent.com/NeuromatchAcademy/content-creation/main/nma.mplstyle\")\n",
    "my_layout = widgets.Layout()"
   ]
  },
  {
   "cell_type": "markdown",
   "metadata": {
    "id": "MlEIJ72vWmwA"
   },
   "source": [
    "The model is a system of three non-linear first order differential equations:\n",
    "\\begin{equation}\n",
    "\\begin{array}{cl}\n",
    "\\frac{dS}{dt}=-\\frac{\\beta IS}{N},\\\\\n",
    "\\frac{dI}{dt}=\\frac{\\beta IS}{N}-\\gamma I,\\\\\n",
    "\\frac{dR}{dt}=\\gamma I\n",
    "\\end{array}\n",
    "\\end{equation}\n",
    "where \n",
    "S is the people who are susceptible in the population, \n",
    "I is the number of people infected, \n",
    "R is the number of removed population (either by death or recovery), and \n",
    "N is the sum of these three $$ N=S(t_0)+I(t_0)+R(t_0).$$\n",
    "$\\beta$ is the infection rate, and $\\gamma$ is the recovery rate.\n",
    "$$ R_{0}={\\frac{\\beta }{\\gamma }},$$\n",
    "\n",
    "the so-called basic reproduction number (also called basic reproduction ratio).\n"
   ]
  },
  {
   "cell_type": "markdown",
   "metadata": {
    "id": "2yALKnymWmwA"
   },
   "source": [
    "## Discrete Domain \n",
    "To numiercally approximate the solution we discretise the continuous domain using a step size, $h=0.001$, \n",
    "which gives\n",
    "\\begin{equation}\n",
    "t_i=0+i h,\n",
    "\\end{equation}\n",
    "for $i=0,...n$.\n",
    "The figure below illustrate the discrete domain."
   ]
  },
  {
   "cell_type": "code",
   "execution_count": 2,
   "metadata": {
    "colab": {
     "base_uri": "https://localhost:8080/",
     "height": 295
    },
    "id": "wjzZ8GRVWmwB",
    "outputId": "8f235171-9282-40ea-c392-5048710e8a13"
   },
   "outputs": [
    {
     "data": {
      "image/png": "[encoded data removed]",
      "text/plain": [
       "<Figure size 360x288 with 1 Axes>"
      ]
     },
     "metadata": {
      "image/png": {
       "height": 270,
       "width": 342
      },
      "needs_background": "light"
     },
     "output_type": "display_data"
    }
   ],
   "source": [
    "h=0.001\n",
    "t=np.arange(0,10+h/2,h)\n",
    "fig = plt.figure(1,figsize=(5,4))\n",
    "ax = fig.add_subplot(1,1,1)\n",
    "ax.plot(t,0*t,'o:',color='k')\n",
    "ax.set_xlabel('Time (yrs)')\n",
    "plt.title('Discrete Time Domain')\n",
    "plt.show()"
   ]
  },
  {
   "cell_type": "markdown",
   "metadata": {
    "id": "a0LVWnYcWmwD"
   },
   "source": [
    "We numerically approximate the differential equation using Eulers method to give the difference equation\n",
    "\\begin{equation}\n",
    "S[i+1] = S[i]+ h*\\big(-beta*S[i]*I[i]/N \\big)\n",
    "\\end{equation}\n",
    "\n",
    "\\begin{equation}\n",
    "I[i+1] = I[i]+ h*\\big(\\beta*S[i]*I[i] /N- gamma I[i] \\big)\n",
    "\\end{equation}\n",
    "\n",
    "\\begin{equation}\n",
    "R[i+1] = R[i]+ h*\\big(gamma I[i] \\big)\n",
    "\\end{equation}\n",
    "\n",
    "\n",
    "where $h$ is the stepsize and  $H[i]$ and $L[i]$ is the numerical approximation of the susceptible $S(t_i)$, infected $I(t_i)$  and recovered $R(t_i)$ at time $t_i$, for $i=0,...,n$\n"
   ]
  },
  {
   "cell_type": "code",
   "execution_count": 8,
   "metadata": {
    "id": "idDCTRpuWmwD"
   },
   "outputs": [],
   "source": [
    "def SIR(beta,gamma):\n",
    "    \"\"\"\n",
    "    Args:\n",
    "  \n",
    "    \"\"\"\n",
    "    h=0.001\n",
    "    t=np.arange(0,10+h/2,h)\n",
    "\n",
    "    n=len(t) # Number of Steps\n",
    "    S=np.zeros(n) # Numerical Solution Hares\n",
    "    S[0]=99 # Intial Hare population\n",
    "    I=np.zeros(n) # Numerical Solution Lynxes\n",
    "    I[0]=1# Initial Lynx population\n",
    "    R=np.zeros(n) # Numerical Solution Lynxes\n",
    "    R[0]=0# Initial Lynx population\n",
    "\n",
    "    N=100\n",
    "\n",
    "    for i in range (0,n-1):\n",
    "        S[i+1]=S[i]+h*(-beta*S[i]*I[i]/N) \n",
    "        I[i+1]=I[i]+h*(beta*S[i]*I[i]/N-gamma*I[i])# INSERT EQUATION HERE \n",
    "        R[i+1]=R[i]+h*gamma*I[i]\n",
    "    ## Plotting Figure\n",
    "        ## Plotting Figure\n",
    "    fig, [ax1, ax2] =plt.subplots(1,2,figsize=(16,4), gridspec_kw={'width_ratios': [2, 1]})\n",
    "    ax1.plot(t,S,':',color='green',label='Sus')\n",
    "    ax1.plot(t,I,':',color='red',label='Inf')\n",
    "    ax1.plot(t,R,':',color='blue',label='Rec')\n",
    "    ax1.legend()\n",
    "    ax1.set_xlabel('Time (yrs)')\n",
    "    ax1.set_ylabel('Population (tens of thousands)')\n",
    "\n",
    "    ax2.plot(I,S,'-',color='black',label='I vs S')\n",
    "    ax2.plot(I,R,'-',color='red',label='I vs R')\n",
    "    ax2.set_xlabel('Infected Population (tens of thousands)')\n",
    "    ax2.set_ylabel('Population (tens of thousands)')\n",
    "    ax2.legend(loc='best')\n",
    "    plt.tight_layout()\n",
    "\n",
    "    plt.show()"
   ]
  },
  {
   "cell_type": "markdown",
   "metadata": {
    "id": "RNO2SdzJWmwE"
   },
   "source": [
    "## Results\n"
   ]
  },
  {
   "cell_type": "code",
   "execution_count": 11,
   "metadata": {
    "colab": {
     "base_uri": "https://localhost:8080/",
     "height": 311
    },
    "id": "CcOmOPI1WmwE",
    "outputId": "a7f26141-66a8-4459-8b9c-ecab34797011"
   },
   "outputs": [
    {
     "data": {
      "application/vnd.jupyter.widget-view+json": {
       "model_id": "e26f28aab1934964b308101bac8cf5bf",
       "version_major": 2,
       "version_minor": 0
      },
      "text/plain": [
       "interactive(children=(FloatSlider(value=1.1, description='beta', layout=Layout(width='450px'), max=2.0), Float…"
      ]
     },
     "metadata": {},
     "output_type": "display_data"
    }
   ],
   "source": [
    "my_layout.width = '450px'\n",
    "@widgets.interact(\n",
    "    beta=widgets.FloatSlider(1.1, min=0., max=2., step=.1, layout=my_layout),\n",
    "    gamma=widgets.FloatSlider(0.4, min=0.00, max=2.0, step=.1, layout=my_layout)\n",
    ")\n",
    "def Pop_widget(beta,gamma):\n",
    "  SIR(beta,gamma)\n",
    "  plt.show()"
   ]
  },
  {
   "cell_type": "markdown",
   "metadata": {
    "id": "i0ck25p0WmwF"
   },
   "source": [
    "# References\n",
    "\n",
    "[1] Weisstein, Eric W. \"Kermack-McKendrick Model.\" From MathWorld--A Wolfram Web Resource. https://mathworld.wolfram.com/Kermack-McKendrickModel.html\n",
    "\n",
    "[2]  Wikipedia contributors. (2021, February 28). Compartmental models in epidemiology. In Wikipedia, The Free Encyclopedia. Retrieved 18:12, March 15, 2021, from https://en.wikipedia.org/w/index.php?title=Compartmental_models_in_epidemiology&oldid=1009414539\n"
   ]
  },
  {
   "cell_type": "code",
   "execution_count": null,
   "metadata": {
    "id": "7WUmWi1G3WYP"
   },
   "outputs": [],
   "source": []
  }
 ],
 "metadata": {
  "colab": {
   "include_colab_link": true,
   "name": "06_Snow Hares and Lynxes.ipynb",
   "provenance": []
  },
  "kernelspec": {
   "display_name": "Python 3 (ipykernel)",
   "language": "python",
   "name": "python3"
  },
  "language_info": {
   "codemirror_mode": {
    "name": "ipython",
    "version": 3
   },
   "file_extension": ".py",
   "mimetype": "text/x-python",
   "name": "python",
   "nbconvert_exporter": "python",
   "pygments_lexer": "ipython3",
   "version": "3.8.12"
  }
 },
 "nbformat": 4,
 "nbformat_minor": 1
}
