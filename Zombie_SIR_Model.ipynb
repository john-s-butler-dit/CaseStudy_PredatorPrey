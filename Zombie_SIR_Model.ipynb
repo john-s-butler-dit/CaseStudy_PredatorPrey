{
  "nbformat": 4,
  "nbformat_minor": 0,
  "metadata": {
    "colab": {
      "name": "06_Snow Hares and Lynxes.ipynb",
      "provenance": [],
      "include_colab_link": true
    },
    "kernelspec": {
      "display_name": "Python 3",
      "language": "python",
      "name": "python3"
    },
    "language_info": {
      "codemirror_mode": {
        "name": "ipython",
        "version": 3
      },
      "file_extension": ".py",
      "mimetype": "text/x-python",
      "name": "python",
      "nbconvert_exporter": "python",
      "pygments_lexer": "ipython3",
      "version": "3.8.5"
    }
  },
  "cells": [
    {
      "cell_type": "markdown",
      "metadata": {
        "id": "view-in-github",
        "colab_type": "text"
      },
      "source": [
        "<a href=\"https://colab.research.google.com/github/john-s-butler-dit/CaseStudy_PredatorPrey/blob/master/Zombie_SIR_Model.ipynb\" target=\"_parent\"><img src=\"https://colab.research.google.com/assets/colab-badge.svg\" alt=\"Open In Colab\"/></a>"
      ]
    },
    {
      "cell_type": "markdown",
      "metadata": {
        "id": "dSl3L5CBWmv5"
      },
      "source": [
        "# SIR Differential Equations"
      ]
    },
    {
      "cell_type": "markdown",
      "metadata": {
        "id": "kdwg7r4FWmv-"
      },
      "source": [
        "\n",
        "In this notebook we will model the spread of disease using the Kermack-McKendrick Model model which is a compartment model."
      ]
    },
    {
      "cell_type": "code",
      "metadata": {
        "id": "bFdy8x_TWmv_"
      },
      "source": [
        "## Library\n",
        "import numpy as np\n",
        "import math \n",
        "import matplotlib.pyplot as plt"
      ],
      "execution_count": null,
      "outputs": []
    },
    {
      "cell_type": "markdown",
      "metadata": {
        "id": "MlEIJ72vWmwA"
      },
      "source": [
        "The model is a system of three non-linear first order differential equations:\n",
        "\\begin{equation}\n",
        "\\begin{array}{cl}\n",
        "\\frac{dS}{dt}=-\\frac{\\beta IS}{N},\\\\\n",
        "\\frac{dI}{dt}=\\frac{\\beta IS}{N}-\\gamma I,\\\\\n",
        "\\frac{dR}{dt}=\\gamma I\n",
        "\\end{array}\n",
        "\\end{equation}\n",
        "where \n",
        "S is the people who are susceptible in the population, \n",
        "I is the number of people infected, \n",
        "R is the number of removed population (either by death or recovery), and \n",
        "N is the sum of these three $$ N=S(t_0)+I(t_0)+R(t_0).$$\n",
        "$\\beta$ is the infection rate, and $\\gamma$ is the recovery rate.\n",
        "$$ R_{0}={\\frac{\\beta }{\\gamma }},$$\n",
        "\n",
        "the so-called basic reproduction number (also called basic reproduction ratio).\n"
      ]
    },
    {
      "cell_type": "code",
      "metadata": {
        "id": "hLmJcxgOWmwA"
      },
      "source": [
        "beta=1\n",
        "gamma=1\n"
      ],
      "execution_count": null,
      "outputs": []
    },
    {
      "cell_type": "markdown",
      "metadata": {
        "id": "2yALKnymWmwA"
      },
      "source": [
        "## Discrete Domain \n",
        "To numiercally approximate the solution we discretise the continuous domain using a step size, $h=0.001$, \n",
        "which gives\n",
        "\\begin{equation}\n",
        "t_i=0+i h,\n",
        "\\end{equation}\n",
        "for $i=0,...n$.\n",
        "The figure below illustrate the discrete domain."
      ]
    },
    {
      "cell_type": "code",
      "metadata": {
        "colab": {
          "base_uri": "https://localhost:8080/",
          "height": 295
        },
        "id": "wjzZ8GRVWmwB",
        "outputId": "8f235171-9282-40ea-c392-5048710e8a13"
      },
      "source": [
        "h=0.001\n",
        "t=np.arange(0,10+h/2,h)\n",
        "fig = plt.figure(1,figsize=(5,4))\n",
        "ax = fig.add_subplot(1,1,1)\n",
        "ax.plot(t,0*t,'o:',color='k')\n",
        "ax.set_xlabel('Time (yrs)')\n",
        "plt.title('Discrete Time Domain')\n",
        "plt.show()"
      ],
      "execution_count": null,
      "outputs": [
        {
          "output_type": "display_data",
          "data": {
            "image/png": "[encoded data removed]",
            "text/plain": [
              "<Figure size 360x288 with 1 Axes>"
            ]
          },
          "metadata": {
            "tags": [],
            "needs_background": "light"
          }
        }
      ]
    },
    {
      "cell_type": "code",
      "metadata": {
        "id": "AZxeC7mYWmwD"
      },
      "source": [
        "n=len(t) # Number of Steps\n",
        "S=np.zeros(n) # Numerical Solution Hares\n",
        "S[0]=99 # Intial Hare population\n",
        "I=np.zeros(n) # Numerical Solution Lynxes\n",
        "I[0]=1# Initial Lynx population\n",
        "R=np.zeros(n) # Numerical Solution Lynxes\n",
        "R[0]=0# Initial Lynx population\n",
        "\n",
        "N=100\n"
      ],
      "execution_count": null,
      "outputs": []
    },
    {
      "cell_type": "markdown",
      "metadata": {
        "id": "a0LVWnYcWmwD"
      },
      "source": [
        "We numerically approximate the differential equation using Eulers method to give the difference equation\n",
        "\\begin{equation}\n",
        "S[i+1] = S[i]+ h*\\big(-beta*S[i]*I[i]/N \\big)\n",
        "\\end{equation}\n",
        "\n",
        "\\begin{equation}\n",
        "I[i+1] = I[i]+ h*\\big(\\beta*S[i]*I[i] /N- gamma I[i] \\big)\n",
        "\\end{equation}\n",
        "\n",
        "\\begin{equation}\n",
        "R[i+1] = R[i]+ h*\\big(gamma I[i] \\big)\n",
        "\\end{equation}\n",
        "\n",
        "\n",
        "where $h$ is the stepsize and  $H[i]$ and $L[i]$ is the numerical approximation of the susceptible $S(t_i)$, infected $I(t_i)$  and recovered $R(t_i)$ at time $t_i$, for $i=0,...,n$\n"
      ]
    },
    {
      "cell_type": "code",
      "metadata": {
        "id": "idDCTRpuWmwD"
      },
      "source": [
        "for i in range (0,n-1):\n",
        "    S[i+1]=S[i]+h*(-beta*S[i]*I[i]/N) \n",
        "    I[i+1]=I[i]+h*(beta*S[i]*I[i]/N-gamma*I[i])# INSERT EQUATION HERE \n",
        "    R[i+1]=R[i]+h*gamma*I[i]\n"
      ],
      "execution_count": null,
      "outputs": []
    },
    {
      "cell_type": "markdown",
      "metadata": {
        "id": "RNO2SdzJWmwE"
      },
      "source": [
        "## Results\n"
      ]
    },
    {
      "cell_type": "code",
      "metadata": {
        "colab": {
          "base_uri": "https://localhost:8080/",
          "height": 311
        },
        "id": "CcOmOPI1WmwE",
        "outputId": "a7f26141-66a8-4459-8b9c-ecab34797011"
      },
      "source": [
        "## Plotting Figure\n",
        "fig = plt.figure(1,figsize=(10,4))\n",
        "\n",
        "ax = fig.add_subplot(1,1,1)\n",
        "\n",
        "ax.plot(t,S,':',color='green',label='Sus')\n",
        "ax.plot(t,I,':',color='red',label='Inf')\n",
        "ax.plot(t,R,':',color='blue',label='Rec')\n",
        "\n",
        "\n",
        "ax.legend()\n",
        "ax.set_xlabel('Time (yrs)')\n",
        "ax.set_ylabel('Population (tens of thousands)')\n",
        "#ax.legend(loc='best')\n",
        "plt.tight_layout()\n",
        "plt.subplots_adjust(top=0.85)\n",
        "plt.show()\n"
      ],
      "execution_count": null,
      "outputs": [
        {
          "output_type": "display_data",
          "data": {
            "image/png": "[encoded data removed]",
            "text/plain": [
              "<Figure size 720x288 with 1 Axes>"
            ]
          },
          "metadata": {
            "tags": [],
            "needs_background": "light"
          }
        }
      ]
    },
    {
      "cell_type": "markdown",
      "metadata": {
        "id": "yrGsICoFWmwE"
      },
      "source": [
        "## Phase Plane Plot\n"
      ]
    },
    {
      "cell_type": "code",
      "metadata": {
        "colab": {
          "base_uri": "https://localhost:8080/",
          "height": 369
        },
        "id": "k0j25RteWmwE",
        "outputId": "737c7d1b-b39d-489d-97df-ae1ad077e559"
      },
      "source": [
        "## Plotting Figure\n",
        "fig = plt.figure(1,figsize=(5,5))\n",
        "\n",
        "ax = fig.add_subplot(1,1,1)\n",
        "\n",
        "ax.plot(I,S,'-',color='black',label='I vs S')\n",
        "ax.plot(I,R,'-',color='red',label='I vs R')\n",
        "\n",
        "\n",
        "ax.set_xlabel('Infected Population (tens of thousands)')\n",
        "ax.set_ylabel('Population (tens of thousands)')\n",
        "ax.legend(loc='best')\n",
        "plt.tight_layout()\n",
        "plt.ylim(0,110)\n",
        "plt.xlim(0,110)\n",
        "\n",
        "plt.show()"
      ],
      "execution_count": null,
      "outputs": [
        {
          "output_type": "display_data",
          "data": {
            "image/png": "[encoded data removed]",
            "text/plain": [
              "<Figure size 360x360 with 1 Axes>"
            ]
          },
          "metadata": {
            "tags": [],
            "needs_background": "light"
          }
        }
      ]
    },
    {
      "cell_type": "markdown",
      "metadata": {
        "id": "i0ck25p0WmwF"
      },
      "source": [
        "# References\n",
        "\n",
        "[1] Weisstein, Eric W. \"Kermack-McKendrick Model.\" From MathWorld--A Wolfram Web Resource. https://mathworld.wolfram.com/Kermack-McKendrickModel.html\n",
        "\n",
        "[2]  Wikipedia contributors. (2021, February 28). Compartmental models in epidemiology. In Wikipedia, The Free Encyclopedia. Retrieved 18:12, March 15, 2021, from https://en.wikipedia.org/w/index.php?title=Compartmental_models_in_epidemiology&oldid=1009414539\n"
      ]
    },
    {
      "cell_type": "code",
      "metadata": {
        "id": "7WUmWi1G3WYP"
      },
      "source": [
        ""
      ],
      "execution_count": null,
      "outputs": []
    }
  ]
}